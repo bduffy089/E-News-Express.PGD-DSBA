{
 "cells": [
  {
   "cell_type": "markdown",
   "id": "f675b9b7",
   "metadata": {
    "papermill": {
     "duration": 0.016323,
     "end_time": "2023-07-10T02:11:19.902874",
     "exception": false,
     "start_time": "2023-07-10T02:11:19.886551",
     "status": "completed"
    },
    "tags": []
   },
   "source": [
    "## Problem Definition\n",
    "\n",
    "An online news portal aims to expand its business by acquiring new subscribers. Every visitor to the website takes certain actions based on their interest. The company plans to analyze these interests and wants to determine whether a new feature will be effective or not. Companies often analyze users' responses to two variants of a product to decide which of the two variants is more effective. This experimental technique is known as a/b testing that is used to determine whether a new feature attracts users based on a chosen metric.\n",
    "\n",
    "Suppose you are hired as a Data Scientist in E-news Express. The design team of the company has created a new landing page. You have been assigned the task to decide whether the new landing page is more effective to gather new subscribers. Suppose you randomly selected 100 users and divided them equally into two groups. The old landing page is served to the first group (control group) and the new landing page is served to the second group (treatment group). Various data about the customers in both groups are collected in 'abtest.csv'. Perform the statistical analysis to answer the following questions using the collected data."
   ]
  },
  {
   "cell_type": "markdown",
   "id": "8e90912a",
   "metadata": {
    "papermill": {
     "duration": 0.015939,
     "end_time": "2023-07-10T02:11:19.936503",
     "exception": false,
     "start_time": "2023-07-10T02:11:19.920564",
     "status": "completed"
    },
    "tags": []
   },
   "source": [
    "## Objective: \n",
    "\n",
    "Statistical analysis of business data. Explore the dataset and extract insights from the data. The idea is for you to get comfortable with doing statistical analysis in Python.\n",
    "\n",
    "You are expected to perform the statistical analysis to answer the following questions:\n",
    "\n",
    " 1. Explore the dataset and extract insights using Exploratory Data Analysis.\n",
    " 2. Do the users spend more time on the new landing page than the old landing page?\n",
    " 3. Is the conversion rate (the proportion of users who visit the landing page and get converted) for the new page greater than the conversion rate for the old page?\n",
    " 4. Does the converted status depend on the preferred language? [Hint: Create a contingency table using the pandas.crosstab() function]\n",
    " 5. Is the mean time spent on the new page same for the different language users?\n",
    "\n",
    "*Consider a significance level of 0.05 for all tests."
   ]
  },
  {
   "cell_type": "markdown",
   "id": "b74ed361",
   "metadata": {
    "papermill": {
     "duration": 0.015647,
     "end_time": "2023-07-10T02:11:19.966990",
     "exception": false,
     "start_time": "2023-07-10T02:11:19.951343",
     "status": "completed"
    },
    "tags": []
   },
   "source": [
    "### Import Libraries "
   ]
  },
  {
   "cell_type": "code",
   "execution_count": 1,
   "id": "f7e562bd",
   "metadata": {
    "execution": {
     "iopub.execute_input": "2023-07-10T02:11:19.997913Z",
     "iopub.status.busy": "2023-07-10T02:11:19.997451Z",
     "iopub.status.idle": "2023-07-10T02:11:21.500912Z",
     "shell.execute_reply": "2023-07-10T02:11:21.499794Z"
    },
    "papermill": {
     "duration": 1.522071,
     "end_time": "2023-07-10T02:11:21.503525",
     "exception": false,
     "start_time": "2023-07-10T02:11:19.981454",
     "status": "completed"
    },
    "tags": []
   },
   "outputs": [],
   "source": [
    "#import the important packages\n",
    "import pandas as pd #library used for data manipulation and analysis\n",
    "import numpy as np # library used for working with arrays.\n",
    "import matplotlib.pyplot as plt # library for plots and visualisations\n",
    "import seaborn as sns # library for visualisations\n",
    "%matplotlib inline \n",
    "\n",
    "import scipy.stats as stats # this library contains a large number of probability distributions \n",
    "\n",
    "# Library to suppress warnings or deprecation notes \n",
    "import warnings\n",
    "warnings.filterwarnings('ignore')\n"
   ]
  },
  {
   "cell_type": "markdown",
   "id": "b9cfcdc4",
   "metadata": {
    "papermill": {
     "duration": 0.014079,
     "end_time": "2023-07-10T02:11:21.532037",
     "exception": false,
     "start_time": "2023-07-10T02:11:21.517958",
     "status": "completed"
    },
    "tags": []
   },
   "source": [
    "### Reading the data into the DataFrame "
   ]
  },
  {
   "cell_type": "code",
   "execution_count": 2,
   "id": "9ff66d7d",
   "metadata": {
    "execution": {
     "iopub.execute_input": "2023-07-10T02:11:21.562701Z",
     "iopub.status.busy": "2023-07-10T02:11:21.562297Z",
     "iopub.status.idle": "2023-07-10T02:11:21.619080Z",
     "shell.execute_reply": "2023-07-10T02:11:21.618054Z"
    },
    "papermill": {
     "duration": 0.074925,
     "end_time": "2023-07-10T02:11:21.621342",
     "exception": false,
     "start_time": "2023-07-10T02:11:21.546417",
     "status": "completed"
    },
    "tags": []
   },
   "outputs": [
    {
     "data": {
      "text/html": [
       "<div>\n",
       "<style scoped>\n",
       "    .dataframe tbody tr th:only-of-type {\n",
       "        vertical-align: middle;\n",
       "    }\n",
       "\n",
       "    .dataframe tbody tr th {\n",
       "        vertical-align: top;\n",
       "    }\n",
       "\n",
       "    .dataframe thead th {\n",
       "        text-align: right;\n",
       "    }\n",
       "</style>\n",
       "<table border=\"1\" class=\"dataframe\">\n",
       "  <thead>\n",
       "    <tr style=\"text-align: right;\">\n",
       "      <th></th>\n",
       "      <th>user_id</th>\n",
       "      <th>group</th>\n",
       "      <th>landing_page</th>\n",
       "      <th>time_spent_on_the_page</th>\n",
       "      <th>converted</th>\n",
       "      <th>language_preferred</th>\n",
       "    </tr>\n",
       "  </thead>\n",
       "  <tbody>\n",
       "    <tr>\n",
       "      <th>0</th>\n",
       "      <td>546592</td>\n",
       "      <td>control</td>\n",
       "      <td>old</td>\n",
       "      <td>3.48</td>\n",
       "      <td>no</td>\n",
       "      <td>Spanish</td>\n",
       "    </tr>\n",
       "    <tr>\n",
       "      <th>1</th>\n",
       "      <td>546468</td>\n",
       "      <td>treatment</td>\n",
       "      <td>new</td>\n",
       "      <td>7.13</td>\n",
       "      <td>yes</td>\n",
       "      <td>English</td>\n",
       "    </tr>\n",
       "    <tr>\n",
       "      <th>2</th>\n",
       "      <td>546462</td>\n",
       "      <td>treatment</td>\n",
       "      <td>new</td>\n",
       "      <td>4.40</td>\n",
       "      <td>no</td>\n",
       "      <td>Spanish</td>\n",
       "    </tr>\n",
       "    <tr>\n",
       "      <th>3</th>\n",
       "      <td>546567</td>\n",
       "      <td>control</td>\n",
       "      <td>old</td>\n",
       "      <td>3.02</td>\n",
       "      <td>no</td>\n",
       "      <td>French</td>\n",
       "    </tr>\n",
       "    <tr>\n",
       "      <th>4</th>\n",
       "      <td>546459</td>\n",
       "      <td>treatment</td>\n",
       "      <td>new</td>\n",
       "      <td>4.75</td>\n",
       "      <td>yes</td>\n",
       "      <td>Spanish</td>\n",
       "    </tr>\n",
       "    <tr>\n",
       "      <th>5</th>\n",
       "      <td>546558</td>\n",
       "      <td>control</td>\n",
       "      <td>old</td>\n",
       "      <td>5.28</td>\n",
       "      <td>yes</td>\n",
       "      <td>English</td>\n",
       "    </tr>\n",
       "    <tr>\n",
       "      <th>6</th>\n",
       "      <td>546448</td>\n",
       "      <td>treatment</td>\n",
       "      <td>new</td>\n",
       "      <td>5.25</td>\n",
       "      <td>yes</td>\n",
       "      <td>French</td>\n",
       "    </tr>\n",
       "    <tr>\n",
       "      <th>7</th>\n",
       "      <td>546581</td>\n",
       "      <td>control</td>\n",
       "      <td>old</td>\n",
       "      <td>6.53</td>\n",
       "      <td>yes</td>\n",
       "      <td>Spanish</td>\n",
       "    </tr>\n",
       "    <tr>\n",
       "      <th>8</th>\n",
       "      <td>546461</td>\n",
       "      <td>treatment</td>\n",
       "      <td>new</td>\n",
       "      <td>10.71</td>\n",
       "      <td>yes</td>\n",
       "      <td>French</td>\n",
       "    </tr>\n",
       "    <tr>\n",
       "      <th>9</th>\n",
       "      <td>546548</td>\n",
       "      <td>control</td>\n",
       "      <td>old</td>\n",
       "      <td>2.08</td>\n",
       "      <td>no</td>\n",
       "      <td>English</td>\n",
       "    </tr>\n",
       "  </tbody>\n",
       "</table>\n",
       "</div>"
      ],
      "text/plain": [
       "   user_id      group landing_page  time_spent_on_the_page converted  \\\n",
       "0   546592    control          old                    3.48        no   \n",
       "1   546468  treatment          new                    7.13       yes   \n",
       "2   546462  treatment          new                    4.40        no   \n",
       "3   546567    control          old                    3.02        no   \n",
       "4   546459  treatment          new                    4.75       yes   \n",
       "5   546558    control          old                    5.28       yes   \n",
       "6   546448  treatment          new                    5.25       yes   \n",
       "7   546581    control          old                    6.53       yes   \n",
       "8   546461  treatment          new                   10.71       yes   \n",
       "9   546548    control          old                    2.08        no   \n",
       "\n",
       "  language_preferred  \n",
       "0            Spanish  \n",
       "1            English  \n",
       "2            Spanish  \n",
       "3             French  \n",
       "4            Spanish  \n",
       "5            English  \n",
       "6             French  \n",
       "7            Spanish  \n",
       "8             French  \n",
       "9            English  "
      ]
     },
     "execution_count": 2,
     "metadata": {},
     "output_type": "execute_result"
    }
   ],
   "source": [
    "df = pd.read_csv('/kaggle/input/abtest-e-news-dataset/abtest.csv')\n",
    "df.head(10)"
   ]
  },
  {
   "cell_type": "code",
   "execution_count": 3,
   "id": "82887ee0",
   "metadata": {
    "execution": {
     "iopub.execute_input": "2023-07-10T02:11:21.652817Z",
     "iopub.status.busy": "2023-07-10T02:11:21.652424Z",
     "iopub.status.idle": "2023-07-10T02:11:21.658762Z",
     "shell.execute_reply": "2023-07-10T02:11:21.657800Z"
    },
    "papermill": {
     "duration": 0.024526,
     "end_time": "2023-07-10T02:11:21.660777",
     "exception": false,
     "start_time": "2023-07-10T02:11:21.636251",
     "status": "completed"
    },
    "tags": []
   },
   "outputs": [
    {
     "data": {
      "text/plain": [
       "(100, 6)"
      ]
     },
     "execution_count": 3,
     "metadata": {},
     "output_type": "execute_result"
    }
   ],
   "source": [
    "# shape of the dataset\n",
    "df.shape"
   ]
  },
  {
   "cell_type": "markdown",
   "id": "b5b66c06",
   "metadata": {
    "papermill": {
     "duration": 0.014685,
     "end_time": "2023-07-10T02:11:21.690394",
     "exception": false,
     "start_time": "2023-07-10T02:11:21.675709",
     "status": "completed"
    },
    "tags": []
   },
   "source": [
    " - The dataset contains 30 rows and 3 columns"
   ]
  },
  {
   "cell_type": "code",
   "execution_count": 4,
   "id": "d2b10b22",
   "metadata": {
    "execution": {
     "iopub.execute_input": "2023-07-10T02:11:21.721785Z",
     "iopub.status.busy": "2023-07-10T02:11:21.721375Z",
     "iopub.status.idle": "2023-07-10T02:11:21.748071Z",
     "shell.execute_reply": "2023-07-10T02:11:21.746863Z"
    },
    "papermill": {
     "duration": 0.045126,
     "end_time": "2023-07-10T02:11:21.750416",
     "exception": false,
     "start_time": "2023-07-10T02:11:21.705290",
     "status": "completed"
    },
    "tags": []
   },
   "outputs": [
    {
     "name": "stdout",
     "output_type": "stream",
     "text": [
      "<class 'pandas.core.frame.DataFrame'>\n",
      "RangeIndex: 100 entries, 0 to 99\n",
      "Data columns (total 6 columns):\n",
      " #   Column                  Non-Null Count  Dtype  \n",
      "---  ------                  --------------  -----  \n",
      " 0   user_id                 100 non-null    int64  \n",
      " 1   group                   100 non-null    object \n",
      " 2   landing_page            100 non-null    object \n",
      " 3   time_spent_on_the_page  100 non-null    float64\n",
      " 4   converted               100 non-null    object \n",
      " 5   language_preferred      100 non-null    object \n",
      "dtypes: float64(1), int64(1), object(4)\n",
      "memory usage: 4.8+ KB\n"
     ]
    }
   ],
   "source": [
    "df.info() #checks info"
   ]
  },
  {
   "cell_type": "markdown",
   "id": "556b8d6c",
   "metadata": {
    "papermill": {
     "duration": 0.014467,
     "end_time": "2023-07-10T02:11:21.779753",
     "exception": false,
     "start_time": "2023-07-10T02:11:21.765286",
     "status": "completed"
    },
    "tags": []
   },
   "source": [
    "- There are 2 numeric columns and 4 object columns, 100 total entries"
   ]
  },
  {
   "cell_type": "code",
   "execution_count": 5,
   "id": "83ffffe9",
   "metadata": {
    "execution": {
     "iopub.execute_input": "2023-07-10T02:11:21.811066Z",
     "iopub.status.busy": "2023-07-10T02:11:21.810684Z",
     "iopub.status.idle": "2023-07-10T02:11:21.828759Z",
     "shell.execute_reply": "2023-07-10T02:11:21.827772Z"
    },
    "papermill": {
     "duration": 0.03666,
     "end_time": "2023-07-10T02:11:21.831195",
     "exception": false,
     "start_time": "2023-07-10T02:11:21.794535",
     "status": "completed"
    },
    "tags": []
   },
   "outputs": [
    {
     "name": "stdout",
     "output_type": "stream",
     "text": [
      "<class 'pandas.core.frame.DataFrame'>\n",
      "RangeIndex: 100 entries, 0 to 99\n",
      "Data columns (total 6 columns):\n",
      " #   Column                  Non-Null Count  Dtype   \n",
      "---  ------                  --------------  -----   \n",
      " 0   user_id                 100 non-null    int64   \n",
      " 1   group                   100 non-null    category\n",
      " 2   landing_page            100 non-null    category\n",
      " 3   time_spent_on_the_page  100 non-null    float64 \n",
      " 4   converted               100 non-null    category\n",
      " 5   language_preferred      100 non-null    category\n",
      "dtypes: category(4), float64(1), int64(1)\n",
      "memory usage: 2.6 KB\n"
     ]
    }
   ],
   "source": [
    "# categorical column should be converted to categorical type \n",
    "\n",
    "df['group']= df.group.astype('category')\n",
    "df['landing_page']= df.landing_page.astype('category')\n",
    "df['converted']= df.converted.astype('category')\n",
    "df['language_preferred']= df.language_preferred.astype('category')\n",
    "df.info() #checks info"
   ]
  },
  {
   "cell_type": "markdown",
   "id": "c3eb1a7c",
   "metadata": {
    "papermill": {
     "duration": 0.014621,
     "end_time": "2023-07-10T02:11:21.861011",
     "exception": false,
     "start_time": "2023-07-10T02:11:21.846390",
     "status": "completed"
    },
    "tags": []
   },
   "source": [
    "## Exploratory Data Analysis"
   ]
  },
  {
   "cell_type": "code",
   "execution_count": 6,
   "id": "110140f5",
   "metadata": {
    "execution": {
     "iopub.execute_input": "2023-07-10T02:11:21.893116Z",
     "iopub.status.busy": "2023-07-10T02:11:21.892442Z",
     "iopub.status.idle": "2023-07-10T02:11:21.905482Z",
     "shell.execute_reply": "2023-07-10T02:11:21.904072Z"
    },
    "papermill": {
     "duration": 0.031848,
     "end_time": "2023-07-10T02:11:21.907597",
     "exception": false,
     "start_time": "2023-07-10T02:11:21.875749",
     "status": "completed"
    },
    "tags": []
   },
   "outputs": [
    {
     "name": "stdout",
     "output_type": "stream",
     "text": [
      "control      50\n",
      "treatment    50\n",
      "Name: group, dtype: int64\n",
      "--------------------------------------------------\n",
      "new    50\n",
      "old    50\n",
      "Name: landing_page, dtype: int64\n",
      "--------------------------------------------------\n",
      "yes    54\n",
      "no     46\n",
      "Name: converted, dtype: int64\n",
      "--------------------------------------------------\n",
      "French     34\n",
      "Spanish    34\n",
      "English    32\n",
      "Name: language_preferred, dtype: int64\n",
      "--------------------------------------------------\n"
     ]
    }
   ],
   "source": [
    "#Making a list of all catrgorical variables \n",
    "cat_col=['group', 'landing_page', 'converted','language_preferred']\n",
    "\n",
    "#Printing number of count of each unique value in each column\n",
    "for column in cat_col:\n",
    "    print(df[column].value_counts())\n",
    "    print('-'*50)"
   ]
  },
  {
   "cell_type": "markdown",
   "id": "f126f29a",
   "metadata": {
    "papermill": {
     "duration": 0.01463,
     "end_time": "2023-07-10T02:11:21.937224",
     "exception": false,
     "start_time": "2023-07-10T02:11:21.922594",
     "status": "completed"
    },
    "tags": []
   },
   "source": [
    "**Observations**\n",
    "\n",
    " - Groups are divided equally by \"control\" and \"treatment\" as well as by \"new\" and \"old\" \n",
    " - 54 have been converted and 46 have not \n",
    " - equal number of French and Spanish with the least speaking English "
   ]
  },
  {
   "cell_type": "code",
   "execution_count": 7,
   "id": "3830371f",
   "metadata": {
    "execution": {
     "iopub.execute_input": "2023-07-10T02:11:21.969190Z",
     "iopub.status.busy": "2023-07-10T02:11:21.968718Z",
     "iopub.status.idle": "2023-07-10T02:11:21.985511Z",
     "shell.execute_reply": "2023-07-10T02:11:21.984343Z"
    },
    "papermill": {
     "duration": 0.035428,
     "end_time": "2023-07-10T02:11:21.987665",
     "exception": false,
     "start_time": "2023-07-10T02:11:21.952237",
     "status": "completed"
    },
    "tags": []
   },
   "outputs": [
    {
     "data": {
      "text/html": [
       "<div>\n",
       "<style scoped>\n",
       "    .dataframe tbody tr th:only-of-type {\n",
       "        vertical-align: middle;\n",
       "    }\n",
       "\n",
       "    .dataframe tbody tr th {\n",
       "        vertical-align: top;\n",
       "    }\n",
       "\n",
       "    .dataframe thead th {\n",
       "        text-align: right;\n",
       "    }\n",
       "</style>\n",
       "<table border=\"1\" class=\"dataframe\">\n",
       "  <thead>\n",
       "    <tr style=\"text-align: right;\">\n",
       "      <th></th>\n",
       "      <th>time_spent_on_the_page</th>\n",
       "    </tr>\n",
       "  </thead>\n",
       "  <tbody>\n",
       "    <tr>\n",
       "      <th>count</th>\n",
       "      <td>100.000000</td>\n",
       "    </tr>\n",
       "    <tr>\n",
       "      <th>mean</th>\n",
       "      <td>5.377800</td>\n",
       "    </tr>\n",
       "    <tr>\n",
       "      <th>std</th>\n",
       "      <td>2.378166</td>\n",
       "    </tr>\n",
       "    <tr>\n",
       "      <th>min</th>\n",
       "      <td>0.190000</td>\n",
       "    </tr>\n",
       "    <tr>\n",
       "      <th>25%</th>\n",
       "      <td>3.880000</td>\n",
       "    </tr>\n",
       "    <tr>\n",
       "      <th>50%</th>\n",
       "      <td>5.415000</td>\n",
       "    </tr>\n",
       "    <tr>\n",
       "      <th>75%</th>\n",
       "      <td>7.022500</td>\n",
       "    </tr>\n",
       "    <tr>\n",
       "      <th>max</th>\n",
       "      <td>10.710000</td>\n",
       "    </tr>\n",
       "  </tbody>\n",
       "</table>\n",
       "</div>"
      ],
      "text/plain": [
       "       time_spent_on_the_page\n",
       "count              100.000000\n",
       "mean                 5.377800\n",
       "std                  2.378166\n",
       "min                  0.190000\n",
       "25%                  3.880000\n",
       "50%                  5.415000\n",
       "75%                  7.022500\n",
       "max                 10.710000"
      ]
     },
     "execution_count": 7,
     "metadata": {},
     "output_type": "execute_result"
    }
   ],
   "source": [
    "df = df.drop(['user_id'], axis=1)\n",
    "df.describe() #summarizes numeric data"
   ]
  },
  {
   "cell_type": "markdown",
   "id": "e073fb3f",
   "metadata": {
    "papermill": {
     "duration": 0.015094,
     "end_time": "2023-07-10T02:11:22.018516",
     "exception": false,
     "start_time": "2023-07-10T02:11:22.003422",
     "status": "completed"
    },
    "tags": []
   },
   "source": [
    " **Summary**\n",
    "\n",
    " - Mean is 5.378 with Std Dev of 2.378\n",
    " - Max time spent on page is ~11 minutes "
   ]
  },
  {
   "cell_type": "markdown",
   "id": "ca7bb134",
   "metadata": {
    "papermill": {
     "duration": 0.014709,
     "end_time": "2023-07-10T02:11:22.048598",
     "exception": false,
     "start_time": "2023-07-10T02:11:22.033889",
     "status": "completed"
    },
    "tags": []
   },
   "source": [
    "## Univariate Analysis"
   ]
  },
  {
   "cell_type": "code",
   "execution_count": 8,
   "id": "063a5ca6",
   "metadata": {
    "execution": {
     "iopub.execute_input": "2023-07-10T02:11:22.080164Z",
     "iopub.status.busy": "2023-07-10T02:11:22.079743Z",
     "iopub.status.idle": "2023-07-10T02:11:22.302941Z",
     "shell.execute_reply": "2023-07-10T02:11:22.301857Z"
    },
    "papermill": {
     "duration": 0.242029,
     "end_time": "2023-07-10T02:11:22.305552",
     "exception": false,
     "start_time": "2023-07-10T02:11:22.063523",
     "status": "completed"
    },
    "tags": []
   },
   "outputs": [
    {
     "data": {
      "image/png": "[encoded data removed]",
      "text/plain": [
       "<Figure size 640x480 with 1 Axes>"
      ]
     },
     "metadata": {},
     "output_type": "display_data"
    }
   ],
   "source": [
    "# visual analysis of control vs. treatment group\n",
    "sns.boxplot(x=\"group\", y=\"time_spent_on_the_page\", data = df, showmeans=True)\n",
    "plt.grid()\n",
    "plt.show()"
   ]
  },
  {
   "cell_type": "markdown",
   "id": "db521a3d",
   "metadata": {
    "papermill": {
     "duration": 0.015408,
     "end_time": "2023-07-10T02:11:22.336828",
     "exception": false,
     "start_time": "2023-07-10T02:11:22.321420",
     "status": "completed"
    },
    "tags": []
   },
   "source": [
    "- control group shows a much larger variance on time spent on the page"
   ]
  },
  {
   "cell_type": "code",
   "execution_count": 9,
   "id": "5b07cf40",
   "metadata": {
    "execution": {
     "iopub.execute_input": "2023-07-10T02:11:22.371095Z",
     "iopub.status.busy": "2023-07-10T02:11:22.369966Z",
     "iopub.status.idle": "2023-07-10T02:11:22.570950Z",
     "shell.execute_reply": "2023-07-10T02:11:22.570023Z"
    },
    "papermill": {
     "duration": 0.220194,
     "end_time": "2023-07-10T02:11:22.573027",
     "exception": false,
     "start_time": "2023-07-10T02:11:22.352833",
     "status": "completed"
    },
    "tags": []
   },
   "outputs": [
    {
     "data": {
      "image/png": "[encoded data removed]",
      "text/plain": [
       "<Figure size 640x480 with 1 Axes>"
      ]
     },
     "metadata": {},
     "output_type": "display_data"
    }
   ],
   "source": [
    "# visual analysis of old page vs. new page \n",
    "sns.boxplot(x=\"landing_page\", y=\"time_spent_on_the_page\", data = df, showmeans=True)\n",
    "plt.grid()\n",
    "plt.show()"
   ]
  },
  {
   "cell_type": "markdown",
   "id": "05890aac",
   "metadata": {
    "papermill": {
     "duration": 0.015916,
     "end_time": "2023-07-10T02:11:22.605735",
     "exception": false,
     "start_time": "2023-07-10T02:11:22.589819",
     "status": "completed"
    },
    "tags": []
   },
   "source": [
    " - Greater range spent on old landing with lower mean of 4 minutes"
   ]
  },
  {
   "cell_type": "code",
   "execution_count": 10,
   "id": "261d3ea6",
   "metadata": {
    "execution": {
     "iopub.execute_input": "2023-07-10T02:11:22.640183Z",
     "iopub.status.busy": "2023-07-10T02:11:22.639555Z",
     "iopub.status.idle": "2023-07-10T02:11:22.863677Z",
     "shell.execute_reply": "2023-07-10T02:11:22.862584Z"
    },
    "papermill": {
     "duration": 0.244045,
     "end_time": "2023-07-10T02:11:22.866118",
     "exception": false,
     "start_time": "2023-07-10T02:11:22.622073",
     "status": "completed"
    },
    "tags": []
   },
   "outputs": [
    {
     "data": {
      "image/png": "[encoded data removed]",
      "text/plain": [
       "<Figure size 640x480 with 1 Axes>"
      ]
     },
     "metadata": {},
     "output_type": "display_data"
    }
   ],
   "source": [
    "# visual analysis of different languages and time they spents on both landing pages \n",
    "sns.boxplot(x=\"language_preferred\", y=\"time_spent_on_the_page\", data = df, showmeans=True)\n",
    "plt.grid()\n",
    "plt.show()"
   ]
  },
  {
   "cell_type": "markdown",
   "id": "734b86df",
   "metadata": {
    "papermill": {
     "duration": 0.016751,
     "end_time": "2023-07-10T02:11:22.899425",
     "exception": false,
     "start_time": "2023-07-10T02:11:22.882674",
     "status": "completed"
    },
    "tags": []
   },
   "source": [
    "- Similar means with Spanish having a larger variance "
   ]
  },
  {
   "cell_type": "code",
   "execution_count": 11,
   "id": "726fcc51",
   "metadata": {
    "execution": {
     "iopub.execute_input": "2023-07-10T02:11:22.934306Z",
     "iopub.status.busy": "2023-07-10T02:11:22.933907Z",
     "iopub.status.idle": "2023-07-10T02:11:23.146054Z",
     "shell.execute_reply": "2023-07-10T02:11:23.145014Z"
    },
    "papermill": {
     "duration": 0.232722,
     "end_time": "2023-07-10T02:11:23.148695",
     "exception": false,
     "start_time": "2023-07-10T02:11:22.915973",
     "status": "completed"
    },
    "scrolled": true,
    "tags": []
   },
   "outputs": [
    {
     "data": {
      "image/png": "[encoded data removed]",
      "text/plain": [
       "<Figure size 640x480 with 1 Axes>"
      ]
     },
     "metadata": {},
     "output_type": "display_data"
    }
   ],
   "source": [
    "# visual analysis of coverted vs. not converted\n",
    "sns.boxplot(x=\"converted\", y=\"time_spent_on_the_page\", data = df, showmeans=True)\n",
    "plt.grid()\n",
    "plt.show()"
   ]
  },
  {
   "cell_type": "markdown",
   "id": "852ed242",
   "metadata": {
    "papermill": {
     "duration": 0.017455,
     "end_time": "2023-07-10T02:11:23.183629",
     "exception": false,
     "start_time": "2023-07-10T02:11:23.166174",
     "status": "completed"
    },
    "tags": []
   },
   "source": [
    " - Very clearly indicates converted group spends more time"
   ]
  },
  {
   "cell_type": "markdown",
   "id": "0a5aa6dd",
   "metadata": {
    "papermill": {
     "duration": 0.016375,
     "end_time": "2023-07-10T02:11:23.217099",
     "exception": false,
     "start_time": "2023-07-10T02:11:23.200724",
     "status": "completed"
    },
    "tags": []
   },
   "source": [
    "# Multivariate Analysis"
   ]
  },
  {
   "cell_type": "code",
   "execution_count": 12,
   "id": "d100059a",
   "metadata": {
    "execution": {
     "iopub.execute_input": "2023-07-10T02:11:23.252726Z",
     "iopub.status.busy": "2023-07-10T02:11:23.252105Z",
     "iopub.status.idle": "2023-07-10T02:11:24.420721Z",
     "shell.execute_reply": "2023-07-10T02:11:24.419407Z"
    },
    "papermill": {
     "duration": 1.189333,
     "end_time": "2023-07-10T02:11:24.423261",
     "exception": false,
     "start_time": "2023-07-10T02:11:23.233928",
     "status": "completed"
    },
    "tags": []
   },
   "outputs": [
    {
     "data": {
      "text/plain": [
       "<seaborn.axisgrid.FacetGrid at 0x7a1bed8ef190>"
      ]
     },
     "execution_count": 12,
     "metadata": {},
     "output_type": "execute_result"
    },
    {
     "data": {
      "text/plain": [
       "<Figure size 1200x700 with 0 Axes>"
      ]
     },
     "metadata": {},
     "output_type": "display_data"
    },
    {
     "data": {
      "image/png": "[encoded data removed]",
      "text/plain": [
       "<Figure size 1147.74x500 with 2 Axes>"
      ]
     },
     "metadata": {},
     "output_type": "display_data"
    }
   ],
   "source": [
    "plt.figure(figsize=(12,7))\n",
    "sns.catplot(x='converted', y='time_spent_on_the_page', col='group', hue='language_preferred', kind=\"bar\", data=df, palette=\"viridis\")"
   ]
  },
  {
   "cell_type": "markdown",
   "id": "95192f9d",
   "metadata": {
    "papermill": {
     "duration": 0.019387,
     "end_time": "2023-07-10T02:11:24.460322",
     "exception": false,
     "start_time": "2023-07-10T02:11:24.440935",
     "status": "completed"
    },
    "tags": []
   },
   "source": [
    " - In both groups those spending the most time on the page appear to be converted\n",
    " "
   ]
  },
  {
   "cell_type": "code",
   "execution_count": 13,
   "id": "0311f099",
   "metadata": {
    "execution": {
     "iopub.execute_input": "2023-07-10T02:11:24.500025Z",
     "iopub.status.busy": "2023-07-10T02:11:24.499049Z",
     "iopub.status.idle": "2023-07-10T02:11:25.090030Z",
     "shell.execute_reply": "2023-07-10T02:11:25.088859Z"
    },
    "papermill": {
     "duration": 0.612399,
     "end_time": "2023-07-10T02:11:25.092090",
     "exception": false,
     "start_time": "2023-07-10T02:11:24.479691",
     "status": "completed"
    },
    "tags": []
   },
   "outputs": [
    {
     "data": {
      "text/plain": [
       "<seaborn.axisgrid.FacetGrid at 0x7a1beb2571c0>"
      ]
     },
     "execution_count": 13,
     "metadata": {},
     "output_type": "execute_result"
    },
    {
     "data": {
      "image/png": "[encoded data removed]",
      "text/plain": [
       "<Figure size 804.611x700 with 1 Axes>"
      ]
     },
     "metadata": {},
     "output_type": "display_data"
    }
   ],
   "source": [
    "#scatter plot between conversion, time, and landing page\n",
    "sns.relplot(x='converted', y='time_spent_on_the_page', hue='landing_page', alpha=.4, palette=\"plasma\",\n",
    "            height=7, data=df).set(title='Conversion Related to Time Spent and Landing Page')"
   ]
  },
  {
   "cell_type": "markdown",
   "id": "b2d5ddf1",
   "metadata": {
    "papermill": {
     "duration": 0.018081,
     "end_time": "2023-07-10T02:11:25.128368",
     "exception": false,
     "start_time": "2023-07-10T02:11:25.110287",
     "status": "completed"
    },
    "tags": []
   },
   "source": [
    " - Appears many unconverted vistors were from the old page or control group"
   ]
  },
  {
   "cell_type": "markdown",
   "id": "75d06814",
   "metadata": {
    "papermill": {
     "duration": 0.01799,
     "end_time": "2023-07-10T02:11:25.165151",
     "exception": false,
     "start_time": "2023-07-10T02:11:25.147161",
     "status": "completed"
    },
    "tags": []
   },
   "source": [
    "## 1. Do users spend more time on the new landing page than the old landing page?"
   ]
  },
  {
   "cell_type": "markdown",
   "id": "efa8e13d",
   "metadata": {
    "papermill": {
     "duration": 0.018338,
     "end_time": "2023-07-10T02:11:25.201754",
     "exception": false,
     "start_time": "2023-07-10T02:11:25.183416",
     "status": "completed"
    },
    "tags": []
   },
   "source": [
    " ### 1.1 Let's write the null and alternative hypothesis"
   ]
  },
  {
   "cell_type": "markdown",
   "id": "9fe4dedf",
   "metadata": {
    "papermill": {
     "duration": 0.017982,
     "end_time": "2023-07-10T02:11:25.238409",
     "exception": false,
     "start_time": "2023-07-10T02:11:25.220427",
     "status": "completed"
    },
    "tags": []
   },
   "source": [
    "\n",
    "Let μn,μo be the mean time spent on new and old landing pages respectively.\n",
    "\n",
    "We will test the null hypothesis\n",
    "\n",
    "    H0:μn=μo\n",
    "\n",
    "against the alternate hypothesis\n",
    "\n",
    "    Ha:μn>μo\n",
    "    "
   ]
  },
  {
   "cell_type": "markdown",
   "id": "64b9c2e4",
   "metadata": {
    "papermill": {
     "duration": 0.017884,
     "end_time": "2023-07-10T02:11:25.274503",
     "exception": false,
     "start_time": "2023-07-10T02:11:25.256619",
     "status": "completed"
    },
    "tags": []
   },
   "source": [
    "### 1.2 Dividing population samples  "
   ]
  },
  {
   "cell_type": "code",
   "execution_count": 14,
   "id": "453db802",
   "metadata": {
    "execution": {
     "iopub.execute_input": "2023-07-10T02:11:25.316272Z",
     "iopub.status.busy": "2023-07-10T02:11:25.315597Z",
     "iopub.status.idle": "2023-07-10T02:11:25.329856Z",
     "shell.execute_reply": "2023-07-10T02:11:25.328701Z"
    },
    "papermill": {
     "duration": 0.038522,
     "end_time": "2023-07-10T02:11:25.332116",
     "exception": false,
     "start_time": "2023-07-10T02:11:25.293594",
     "status": "completed"
    },
    "tags": []
   },
   "outputs": [
    {
     "data": {
      "text/html": [
       "<div>\n",
       "<style scoped>\n",
       "    .dataframe tbody tr th:only-of-type {\n",
       "        vertical-align: middle;\n",
       "    }\n",
       "\n",
       "    .dataframe tbody tr th {\n",
       "        vertical-align: top;\n",
       "    }\n",
       "\n",
       "    .dataframe thead th {\n",
       "        text-align: right;\n",
       "    }\n",
       "</style>\n",
       "<table border=\"1\" class=\"dataframe\">\n",
       "  <thead>\n",
       "    <tr style=\"text-align: right;\">\n",
       "      <th></th>\n",
       "      <th>group</th>\n",
       "      <th>landing_page</th>\n",
       "      <th>time_spent_on_the_page</th>\n",
       "      <th>converted</th>\n",
       "      <th>language_preferred</th>\n",
       "    </tr>\n",
       "  </thead>\n",
       "  <tbody>\n",
       "    <tr>\n",
       "      <th>1</th>\n",
       "      <td>treatment</td>\n",
       "      <td>new</td>\n",
       "      <td>7.13</td>\n",
       "      <td>yes</td>\n",
       "      <td>English</td>\n",
       "    </tr>\n",
       "    <tr>\n",
       "      <th>2</th>\n",
       "      <td>treatment</td>\n",
       "      <td>new</td>\n",
       "      <td>4.40</td>\n",
       "      <td>no</td>\n",
       "      <td>Spanish</td>\n",
       "    </tr>\n",
       "    <tr>\n",
       "      <th>4</th>\n",
       "      <td>treatment</td>\n",
       "      <td>new</td>\n",
       "      <td>4.75</td>\n",
       "      <td>yes</td>\n",
       "      <td>Spanish</td>\n",
       "    </tr>\n",
       "    <tr>\n",
       "      <th>6</th>\n",
       "      <td>treatment</td>\n",
       "      <td>new</td>\n",
       "      <td>5.25</td>\n",
       "      <td>yes</td>\n",
       "      <td>French</td>\n",
       "    </tr>\n",
       "    <tr>\n",
       "      <th>8</th>\n",
       "      <td>treatment</td>\n",
       "      <td>new</td>\n",
       "      <td>10.71</td>\n",
       "      <td>yes</td>\n",
       "      <td>French</td>\n",
       "    </tr>\n",
       "  </tbody>\n",
       "</table>\n",
       "</div>"
      ],
      "text/plain": [
       "       group landing_page  time_spent_on_the_page converted language_preferred\n",
       "1  treatment          new                    7.13       yes            English\n",
       "2  treatment          new                    4.40        no            Spanish\n",
       "4  treatment          new                    4.75       yes            Spanish\n",
       "6  treatment          new                    5.25       yes             French\n",
       "8  treatment          new                   10.71       yes             French"
      ]
     },
     "execution_count": 14,
     "metadata": {},
     "output_type": "execute_result"
    }
   ],
   "source": [
    "#create df for new landing page\n",
    "newLP = df.loc[df.landing_page==\"new\"]\n",
    "newLP.head()"
   ]
  },
  {
   "cell_type": "code",
   "execution_count": 15,
   "id": "f7c895b3",
   "metadata": {
    "execution": {
     "iopub.execute_input": "2023-07-10T02:11:25.374754Z",
     "iopub.status.busy": "2023-07-10T02:11:25.374068Z",
     "iopub.status.idle": "2023-07-10T02:11:25.389191Z",
     "shell.execute_reply": "2023-07-10T02:11:25.387944Z"
    },
    "papermill": {
     "duration": 0.039567,
     "end_time": "2023-07-10T02:11:25.391631",
     "exception": false,
     "start_time": "2023-07-10T02:11:25.352064",
     "status": "completed"
    },
    "tags": []
   },
   "outputs": [
    {
     "data": {
      "text/html": [
       "<div>\n",
       "<style scoped>\n",
       "    .dataframe tbody tr th:only-of-type {\n",
       "        vertical-align: middle;\n",
       "    }\n",
       "\n",
       "    .dataframe tbody tr th {\n",
       "        vertical-align: top;\n",
       "    }\n",
       "\n",
       "    .dataframe thead th {\n",
       "        text-align: right;\n",
       "    }\n",
       "</style>\n",
       "<table border=\"1\" class=\"dataframe\">\n",
       "  <thead>\n",
       "    <tr style=\"text-align: right;\">\n",
       "      <th></th>\n",
       "      <th>group</th>\n",
       "      <th>landing_page</th>\n",
       "      <th>time_spent_on_the_page</th>\n",
       "      <th>converted</th>\n",
       "      <th>language_preferred</th>\n",
       "    </tr>\n",
       "  </thead>\n",
       "  <tbody>\n",
       "    <tr>\n",
       "      <th>0</th>\n",
       "      <td>control</td>\n",
       "      <td>old</td>\n",
       "      <td>3.48</td>\n",
       "      <td>no</td>\n",
       "      <td>Spanish</td>\n",
       "    </tr>\n",
       "    <tr>\n",
       "      <th>3</th>\n",
       "      <td>control</td>\n",
       "      <td>old</td>\n",
       "      <td>3.02</td>\n",
       "      <td>no</td>\n",
       "      <td>French</td>\n",
       "    </tr>\n",
       "    <tr>\n",
       "      <th>5</th>\n",
       "      <td>control</td>\n",
       "      <td>old</td>\n",
       "      <td>5.28</td>\n",
       "      <td>yes</td>\n",
       "      <td>English</td>\n",
       "    </tr>\n",
       "    <tr>\n",
       "      <th>7</th>\n",
       "      <td>control</td>\n",
       "      <td>old</td>\n",
       "      <td>6.53</td>\n",
       "      <td>yes</td>\n",
       "      <td>Spanish</td>\n",
       "    </tr>\n",
       "    <tr>\n",
       "      <th>9</th>\n",
       "      <td>control</td>\n",
       "      <td>old</td>\n",
       "      <td>2.08</td>\n",
       "      <td>no</td>\n",
       "      <td>English</td>\n",
       "    </tr>\n",
       "  </tbody>\n",
       "</table>\n",
       "</div>"
      ],
      "text/plain": [
       "     group landing_page  time_spent_on_the_page converted language_preferred\n",
       "0  control          old                    3.48        no            Spanish\n",
       "3  control          old                    3.02        no             French\n",
       "5  control          old                    5.28       yes            English\n",
       "7  control          old                    6.53       yes            Spanish\n",
       "9  control          old                    2.08        no            English"
      ]
     },
     "execution_count": 15,
     "metadata": {},
     "output_type": "execute_result"
    }
   ],
   "source": [
    "#create df for old landing page \n",
    "oldLP = df.loc[df.landing_page==\"old\"]\n",
    "oldLP.head()"
   ]
  },
  {
   "cell_type": "code",
   "execution_count": 16,
   "id": "9319f82b",
   "metadata": {
    "execution": {
     "iopub.execute_input": "2023-07-10T02:11:25.431085Z",
     "iopub.status.busy": "2023-07-10T02:11:25.430414Z",
     "iopub.status.idle": "2023-07-10T02:11:25.438650Z",
     "shell.execute_reply": "2023-07-10T02:11:25.437870Z"
    },
    "papermill": {
     "duration": 0.030318,
     "end_time": "2023-07-10T02:11:25.440819",
     "exception": false,
     "start_time": "2023-07-10T02:11:25.410501",
     "status": "completed"
    },
    "tags": []
   },
   "outputs": [
    {
     "name": "stdout",
     "output_type": "stream",
     "text": [
      "The mean time spent on the new landing page is 4.53\n",
      "The mean time spent on the old landing page is 6.22\n",
      "The standard deviation of time spent on the new landing page is 2.58\n",
      "The standard deviation of time spent on the old landing page is 1.82\n"
     ]
    }
   ],
   "source": [
    "# find the sample means and sample standard deviations for the two samples\n",
    "print('The mean time spent on the new landing page is ' + str(round(oldLP['time_spent_on_the_page'].mean(),2)))\n",
    "print('The mean time spent on the old landing page is ' + str(round(newLP['time_spent_on_the_page'].mean(), 2)))\n",
    "print('The standard deviation of time spent on the new landing page is ' + str(round(oldLP['time_spent_on_the_page'].std(), 2)))\n",
    "print('The standard deviation of time spent on the old landing page is ' + str(round(newLP['time_spent_on_the_page'].std(), 2)))"
   ]
  },
  {
   "cell_type": "markdown",
   "id": "866e054d",
   "metadata": {
    "papermill": {
     "duration": 0.019559,
     "end_time": "2023-07-10T02:11:25.479092",
     "exception": false,
     "start_time": "2023-07-10T02:11:25.459533",
     "status": "completed"
    },
    "tags": []
   },
   "source": [
    "### 1.3 Selecting Appropriate Test "
   ]
  },
  {
   "cell_type": "markdown",
   "id": "a95ce521",
   "metadata": {
    "papermill": {
     "duration": 0.018496,
     "end_time": "2023-07-10T02:11:25.517101",
     "exception": false,
     "start_time": "2023-07-10T02:11:25.498605",
     "status": "completed"
    },
    "tags": []
   },
   "source": [
    "**2 Sample Independent T-Test**\n",
    "- Continuous data \n",
    "- Normally distributed populations \n",
    "- Independent populations \n",
    "- Unequal population standard deviations \n",
    "- Random sampling from the population "
   ]
  },
  {
   "cell_type": "markdown",
   "id": "24e3166e",
   "metadata": {
    "papermill": {
     "duration": 0.019411,
     "end_time": "2023-07-10T02:11:25.556093",
     "exception": false,
     "start_time": "2023-07-10T02:11:25.536682",
     "status": "completed"
    },
    "tags": []
   },
   "source": [
    "### 1.4 Finding the p-value"
   ]
  },
  {
   "cell_type": "code",
   "execution_count": 17,
   "id": "28cd7376",
   "metadata": {
    "execution": {
     "iopub.execute_input": "2023-07-10T02:11:25.596112Z",
     "iopub.status.busy": "2023-07-10T02:11:25.595397Z",
     "iopub.status.idle": "2023-07-10T02:11:25.605159Z",
     "shell.execute_reply": "2023-07-10T02:11:25.603797Z"
    },
    "papermill": {
     "duration": 0.032662,
     "end_time": "2023-07-10T02:11:25.607459",
     "exception": false,
     "start_time": "2023-07-10T02:11:25.574797",
     "status": "completed"
    },
    "tags": []
   },
   "outputs": [
    {
     "name": "stdout",
     "output_type": "stream",
     "text": [
      "The p-value is 0.0001392381225166549\n"
     ]
    }
   ],
   "source": [
    "#import the required functions\n",
    "from scipy.stats import ttest_ind\n",
    "\n",
    "# find the p-value\n",
    "test_stat, p_value = ttest_ind(newLP['time_spent_on_the_page'], oldLP['time_spent_on_the_page'].dropna(), equal_var = False, alternative = 'greater')\n",
    "print('The p-value is', p_value)"
   ]
  },
  {
   "cell_type": "markdown",
   "id": "d37a64fc",
   "metadata": {
    "papermill": {
     "duration": 0.018564,
     "end_time": "2023-07-10T02:11:25.644869",
     "exception": false,
     "start_time": "2023-07-10T02:11:25.626305",
     "status": "completed"
    },
    "tags": []
   },
   "source": [
    "### 1.5 Insight"
   ]
  },
  {
   "cell_type": "markdown",
   "id": "b76eaf2e",
   "metadata": {
    "papermill": {
     "duration": 0.020211,
     "end_time": "2023-07-10T02:11:25.683983",
     "exception": false,
     "start_time": "2023-07-10T02:11:25.663772",
     "status": "completed"
    },
    "tags": []
   },
   "source": [
    "As the p-value (~0.0001) is less than the level of significance, we can reject the null hypothesis. Hence, we do have enough evidence to say users do not spend equal time on the pages."
   ]
  },
  {
   "cell_type": "markdown",
   "id": "debdcdbe",
   "metadata": {
    "papermill": {
     "duration": 0.019068,
     "end_time": "2023-07-10T02:11:25.722127",
     "exception": false,
     "start_time": "2023-07-10T02:11:25.703059",
     "status": "completed"
    },
    "tags": []
   },
   "source": [
    "## 2. Is the conversion rate (the proportion of users who visit the landing page and get converted) for the new page greater than the conversion rate for the old page?"
   ]
  },
  {
   "cell_type": "markdown",
   "id": "41b595fa",
   "metadata": {
    "papermill": {
     "duration": 0.019025,
     "end_time": "2023-07-10T02:11:25.760979",
     "exception": false,
     "start_time": "2023-07-10T02:11:25.741954",
     "status": "completed"
    },
    "tags": []
   },
   "source": [
    "### 2.1 Let's write the null and alternative hypothesis"
   ]
  },
  {
   "cell_type": "markdown",
   "id": "29bdd697",
   "metadata": {
    "papermill": {
     "duration": 0.018564,
     "end_time": "2023-07-10T02:11:25.799599",
     "exception": false,
     "start_time": "2023-07-10T02:11:25.781035",
     "status": "completed"
    },
    "tags": []
   },
   "source": [
    "Let pn,po be the proportions of visitors who get converted from the new and old landing pages respectively.\n",
    "\n",
    "We will test the null hypothesis\n",
    "\n",
    "    H0:pn=po\n",
    "    \n",
    "against the alternate hypothesis\n",
    "\n",
    "    Ha:pn>po"
   ]
  },
  {
   "cell_type": "markdown",
   "id": "433b64c2",
   "metadata": {
    "papermill": {
     "duration": 0.018502,
     "end_time": "2023-07-10T02:11:25.837016",
     "exception": false,
     "start_time": "2023-07-10T02:11:25.818514",
     "status": "completed"
    },
    "tags": []
   },
   "source": [
    "### 2.2 Preparing data for the test "
   ]
  },
  {
   "cell_type": "code",
   "execution_count": 18,
   "id": "eb0f222d",
   "metadata": {
    "execution": {
     "iopub.execute_input": "2023-07-10T02:11:25.877403Z",
     "iopub.status.busy": "2023-07-10T02:11:25.876293Z",
     "iopub.status.idle": "2023-07-10T02:11:25.891449Z",
     "shell.execute_reply": "2023-07-10T02:11:25.890062Z"
    },
    "papermill": {
     "duration": 0.037683,
     "end_time": "2023-07-10T02:11:25.893919",
     "exception": false,
     "start_time": "2023-07-10T02:11:25.856236",
     "status": "completed"
    },
    "tags": []
   },
   "outputs": [
    {
     "name": "stdout",
     "output_type": "stream",
     "text": [
      "The number of vistors converted from the new and old landing pages are 33 and 21 respectively\n",
      "The total numbers of visitors on the new and old landing pages are 50 and 50 respectively\n"
     ]
    }
   ],
   "source": [
    "# number of converted visitors from new landing page \n",
    "new_converted = df[df['landing_page']=='new'].converted.value_counts()['yes']\n",
    "\n",
    "# number of converted visitors from old landing page\n",
    "old_converted = df[df['landing_page']=='old'].converted.value_counts()['yes']\n",
    "\n",
    "print('The number of vistors converted from the new and old landing pages are {0} and {1} respectively'.format(new_converted, old_converted))\n",
    "\n",
    "# number of visitors on old landing page \n",
    "n_new = df.landing_page.value_counts()['new']\n",
    "\n",
    "# number of visitors on new landing page\n",
    "n_old = df.landing_page.value_counts()['old']\n",
    "\n",
    "print('The total numbers of visitors on the new and old landing pages are {0} and {1} respectively'.format(n_new, n_old))"
   ]
  },
  {
   "cell_type": "code",
   "execution_count": 19,
   "id": "bbe916bb",
   "metadata": {
    "execution": {
     "iopub.execute_input": "2023-07-10T02:11:25.934244Z",
     "iopub.status.busy": "2023-07-10T02:11:25.933786Z",
     "iopub.status.idle": "2023-07-10T02:11:25.941672Z",
     "shell.execute_reply": "2023-07-10T02:11:25.940611Z"
    },
    "papermill": {
     "duration": 0.030766,
     "end_time": "2023-07-10T02:11:25.943930",
     "exception": false,
     "start_time": "2023-07-10T02:11:25.913164",
     "status": "completed"
    },
    "tags": []
   },
   "outputs": [
    {
     "name": "stdout",
     "output_type": "stream",
     "text": [
      " The proportions of conversions from the new and old landing pages are 0.66, 0.42 respectively\n"
     ]
    }
   ],
   "source": [
    "print(f' The proportions of conversions from the new and old landing pages are {round(33/50,2)}, {round(21/50,2)} respectively')"
   ]
  },
  {
   "cell_type": "markdown",
   "id": "b6c451a8",
   "metadata": {
    "papermill": {
     "duration": 0.018809,
     "end_time": "2023-07-10T02:11:25.982639",
     "exception": false,
     "start_time": "2023-07-10T02:11:25.963830",
     "status": "completed"
    },
    "tags": []
   },
   "source": [
    "- The proportions in the sample are different. Let's conduct the test to see if this difference is significant."
   ]
  },
  {
   "cell_type": "markdown",
   "id": "00a42b47",
   "metadata": {
    "papermill": {
     "duration": 0.019683,
     "end_time": "2023-07-10T02:11:26.021362",
     "exception": false,
     "start_time": "2023-07-10T02:11:26.001679",
     "status": "completed"
    },
    "tags": []
   },
   "source": [
    "### 2.3 Selecting Appropriate Test "
   ]
  },
  {
   "cell_type": "markdown",
   "id": "bbd04009",
   "metadata": {
    "papermill": {
     "duration": 0.018761,
     "end_time": "2023-07-10T02:11:26.059511",
     "exception": false,
     "start_time": "2023-07-10T02:11:26.040750",
     "status": "completed"
    },
    "tags": []
   },
   "source": [
    " **2 Sample Proportions Z-Test**\n",
    " - Binomally distributed population\n",
    " - Random sampling from the population \n",
    " - binomial distribution approximated to normal distribution"
   ]
  },
  {
   "cell_type": "markdown",
   "id": "1cf9f685",
   "metadata": {
    "papermill": {
     "duration": 0.020024,
     "end_time": "2023-07-10T02:11:26.099398",
     "exception": false,
     "start_time": "2023-07-10T02:11:26.079374",
     "status": "completed"
    },
    "tags": []
   },
   "source": [
    "### 2.4 Finding the p-value "
   ]
  },
  {
   "cell_type": "code",
   "execution_count": 20,
   "id": "90ee2b55",
   "metadata": {
    "execution": {
     "iopub.execute_input": "2023-07-10T02:11:26.140941Z",
     "iopub.status.busy": "2023-07-10T02:11:26.140536Z",
     "iopub.status.idle": "2023-07-10T02:11:26.205717Z",
     "shell.execute_reply": "2023-07-10T02:11:26.204610Z"
    },
    "papermill": {
     "duration": 0.08896,
     "end_time": "2023-07-10T02:11:26.208312",
     "exception": false,
     "start_time": "2023-07-10T02:11:26.119352",
     "status": "completed"
    },
    "tags": []
   },
   "outputs": [
    {
     "name": "stdout",
     "output_type": "stream",
     "text": [
      "The p-value is 0.016052616408112556\n"
     ]
    }
   ],
   "source": [
    "# import the required function\n",
    "from statsmodels.stats.proportion import proportions_ztest\n",
    "\n",
    "# set the counts of converted visitors \n",
    "converted = np.array([33, 21])\n",
    "\n",
    "# set the sample sizes\n",
    "visitors = np.array([50, 50])\n",
    "\n",
    "# find the p-value\n",
    "test_stat, p_value = proportions_ztest(converted, visitors)\n",
    "print('The p-value is ' + str(p_value))"
   ]
  },
  {
   "cell_type": "markdown",
   "id": "96fbf2a6",
   "metadata": {
    "papermill": {
     "duration": 0.019518,
     "end_time": "2023-07-10T02:11:26.247302",
     "exception": false,
     "start_time": "2023-07-10T02:11:26.227784",
     "status": "completed"
    },
    "tags": []
   },
   "source": [
    "### 2.5 Insight"
   ]
  },
  {
   "cell_type": "markdown",
   "id": "2a01cf77",
   "metadata": {
    "papermill": {
     "duration": 0.018854,
     "end_time": "2023-07-10T02:11:26.285682",
     "exception": false,
     "start_time": "2023-07-10T02:11:26.266828",
     "status": "completed"
    },
    "tags": []
   },
   "source": [
    "As the p-value is less than the significance level 0.05, we can reject the null hypothesis. We have strong evidence that the proportions of visitors visiting the old page and being converted is less than those getting converted from the new page. "
   ]
  },
  {
   "cell_type": "markdown",
   "id": "663fd653",
   "metadata": {
    "papermill": {
     "duration": 0.022277,
     "end_time": "2023-07-10T02:11:26.328051",
     "exception": false,
     "start_time": "2023-07-10T02:11:26.305774",
     "status": "completed"
    },
    "tags": []
   },
   "source": [
    "## 3. Does the converted status depend on preferred language? "
   ]
  },
  {
   "cell_type": "markdown",
   "id": "f70529c6",
   "metadata": {
    "papermill": {
     "duration": 0.020027,
     "end_time": "2023-07-10T02:11:26.368821",
     "exception": false,
     "start_time": "2023-07-10T02:11:26.348794",
     "status": "completed"
    },
    "tags": []
   },
   "source": [
    "### 3.1 Let's write the null and alternative hypothesis"
   ]
  },
  {
   "cell_type": "markdown",
   "id": "14540cb6",
   "metadata": {
    "papermill": {
     "duration": 0.019875,
     "end_time": "2023-07-10T02:11:26.408746",
     "exception": false,
     "start_time": "2023-07-10T02:11:26.388871",
     "status": "completed"
    },
    "tags": []
   },
   "source": [
    "We will test the null hypothesis\n",
    "\n",
    "    H0: Converted status is independent of preferred language.\n",
    "\n",
    "against the alternate hypothesis\n",
    "\n",
    "    Ha: Converted status depends on preferred language."
   ]
  },
  {
   "cell_type": "markdown",
   "id": "048e9782",
   "metadata": {
    "papermill": {
     "duration": 0.020384,
     "end_time": "2023-07-10T02:11:26.449857",
     "exception": false,
     "start_time": "2023-07-10T02:11:26.429473",
     "status": "completed"
    },
    "tags": []
   },
   "source": [
    "### 3.2 Preparing data for the test "
   ]
  },
  {
   "cell_type": "code",
   "execution_count": 21,
   "id": "0c281117",
   "metadata": {
    "execution": {
     "iopub.execute_input": "2023-07-10T02:11:26.492991Z",
     "iopub.status.busy": "2023-07-10T02:11:26.491819Z",
     "iopub.status.idle": "2023-07-10T02:11:26.553681Z",
     "shell.execute_reply": "2023-07-10T02:11:26.552303Z"
    },
    "papermill": {
     "duration": 0.087534,
     "end_time": "2023-07-10T02:11:26.557030",
     "exception": false,
     "start_time": "2023-07-10T02:11:26.469496",
     "status": "completed"
    },
    "tags": []
   },
   "outputs": [
    {
     "data": {
      "text/html": [
       "<div>\n",
       "<style scoped>\n",
       "    .dataframe tbody tr th:only-of-type {\n",
       "        vertical-align: middle;\n",
       "    }\n",
       "\n",
       "    .dataframe tbody tr th {\n",
       "        vertical-align: top;\n",
       "    }\n",
       "\n",
       "    .dataframe thead th {\n",
       "        text-align: right;\n",
       "    }\n",
       "</style>\n",
       "<table border=\"1\" class=\"dataframe\">\n",
       "  <thead>\n",
       "    <tr style=\"text-align: right;\">\n",
       "      <th>language_preferred</th>\n",
       "      <th>English</th>\n",
       "      <th>French</th>\n",
       "      <th>Spanish</th>\n",
       "      <th>All</th>\n",
       "    </tr>\n",
       "    <tr>\n",
       "      <th>converted</th>\n",
       "      <th></th>\n",
       "      <th></th>\n",
       "      <th></th>\n",
       "      <th></th>\n",
       "    </tr>\n",
       "  </thead>\n",
       "  <tbody>\n",
       "    <tr>\n",
       "      <th>no</th>\n",
       "      <td>11</td>\n",
       "      <td>19</td>\n",
       "      <td>16</td>\n",
       "      <td>46</td>\n",
       "    </tr>\n",
       "    <tr>\n",
       "      <th>yes</th>\n",
       "      <td>21</td>\n",
       "      <td>15</td>\n",
       "      <td>18</td>\n",
       "      <td>54</td>\n",
       "    </tr>\n",
       "    <tr>\n",
       "      <th>All</th>\n",
       "      <td>32</td>\n",
       "      <td>34</td>\n",
       "      <td>34</td>\n",
       "      <td>100</td>\n",
       "    </tr>\n",
       "  </tbody>\n",
       "</table>\n",
       "</div>"
      ],
      "text/plain": [
       "language_preferred  English  French  Spanish  All\n",
       "converted                                        \n",
       "no                       11      19       16   46\n",
       "yes                      21      15       18   54\n",
       "All                      32      34       34  100"
      ]
     },
     "execution_count": 21,
     "metadata": {},
     "output_type": "execute_result"
    }
   ],
   "source": [
    "#creates a contingency table \n",
    "convlange = pd.crosstab(df.converted, df.language_preferred, margins=True)\n",
    "convlange.head()"
   ]
  },
  {
   "cell_type": "markdown",
   "id": "694eca22",
   "metadata": {
    "papermill": {
     "duration": 0.024531,
     "end_time": "2023-07-10T02:11:26.606868",
     "exception": false,
     "start_time": "2023-07-10T02:11:26.582337",
     "status": "completed"
    },
    "tags": []
   },
   "source": [
    "### 3.3  Chi-Square Test of Independence"
   ]
  },
  {
   "cell_type": "markdown",
   "id": "71a7b5a5",
   "metadata": {
    "papermill": {
     "duration": 0.022634,
     "end_time": "2023-07-10T02:11:26.654275",
     "exception": false,
     "start_time": "2023-07-10T02:11:26.631641",
     "status": "completed"
    },
    "tags": []
   },
   "source": [
    " - Categorical variables \n",
    " - Expected value of the number of sample observations in each level of the variable is at least 5 \n",
    " - Random sampling from the population "
   ]
  },
  {
   "cell_type": "markdown",
   "id": "412b163c",
   "metadata": {
    "papermill": {
     "duration": 0.018822,
     "end_time": "2023-07-10T02:11:26.692457",
     "exception": false,
     "start_time": "2023-07-10T02:11:26.673635",
     "status": "completed"
    },
    "tags": []
   },
   "source": [
    "### 3.4 Find the p-value"
   ]
  },
  {
   "cell_type": "code",
   "execution_count": 22,
   "id": "e0fc9f42",
   "metadata": {
    "execution": {
     "iopub.execute_input": "2023-07-10T02:11:26.732931Z",
     "iopub.status.busy": "2023-07-10T02:11:26.732202Z",
     "iopub.status.idle": "2023-07-10T02:11:26.738719Z",
     "shell.execute_reply": "2023-07-10T02:11:26.737603Z"
    },
    "papermill": {
     "duration": 0.029235,
     "end_time": "2023-07-10T02:11:26.740928",
     "exception": false,
     "start_time": "2023-07-10T02:11:26.711693",
     "status": "completed"
    },
    "tags": []
   },
   "outputs": [
    {
     "name": "stdout",
     "output_type": "stream",
     "text": [
      "The p-value is 0.7970832186581233\n"
     ]
    }
   ],
   "source": [
    "# import the required function\n",
    "from scipy.stats import chi2_contingency\n",
    "\n",
    "# find the p-value\n",
    "chi, p_value, dof, expected = chi2_contingency(convlange)\n",
    "print('The p-value is', p_value)"
   ]
  },
  {
   "cell_type": "markdown",
   "id": "d8038261",
   "metadata": {
    "papermill": {
     "duration": 0.018778,
     "end_time": "2023-07-10T02:11:26.779022",
     "exception": false,
     "start_time": "2023-07-10T02:11:26.760244",
     "status": "completed"
    },
    "tags": []
   },
   "source": [
    "### 3.5 Insight "
   ]
  },
  {
   "cell_type": "markdown",
   "id": "527d12ee",
   "metadata": {
    "papermill": {
     "duration": 0.019048,
     "end_time": "2023-07-10T02:11:26.817181",
     "exception": false,
     "start_time": "2023-07-10T02:11:26.798133",
     "status": "completed"
    },
    "tags": []
   },
   "source": [
    "As the p-value is greater than the significance level, we can reject the null hypothesis. Hence, we do have enough statistical significance to conclude that converted status is independent of preferred language at 5% significance level."
   ]
  },
  {
   "cell_type": "markdown",
   "id": "60f52b45",
   "metadata": {
    "papermill": {
     "duration": 0.019398,
     "end_time": "2023-07-10T02:11:26.855635",
     "exception": false,
     "start_time": "2023-07-10T02:11:26.836237",
     "status": "completed"
    },
    "tags": []
   },
   "source": [
    "## 4. Is the mean time spent on the new page same for different language users?"
   ]
  },
  {
   "cell_type": "markdown",
   "id": "5663a88c",
   "metadata": {
    "papermill": {
     "duration": 0.018889,
     "end_time": "2023-07-10T02:11:26.893687",
     "exception": false,
     "start_time": "2023-07-10T02:11:26.874798",
     "status": "completed"
    },
    "tags": []
   },
   "source": [
    "### 4.1 Define the Null and Alternate Hypothesis"
   ]
  },
  {
   "cell_type": "markdown",
   "id": "a669d81c",
   "metadata": {
    "papermill": {
     "duration": 0.018877,
     "end_time": "2023-07-10T02:11:26.931587",
     "exception": false,
     "start_time": "2023-07-10T02:11:26.912710",
     "status": "completed"
    },
    "tags": []
   },
   "source": [
    "H0 : The mean time spent on the new page with respect to each language is equal.\n",
    "\n",
    "Ha : At least one of the mean times spent on the new page with respect to preferred language is different."
   ]
  },
  {
   "cell_type": "markdown",
   "id": "38ea2ebd",
   "metadata": {
    "papermill": {
     "duration": 0.018823,
     "end_time": "2023-07-10T02:11:26.969763",
     "exception": false,
     "start_time": "2023-07-10T02:11:26.950940",
     "status": "completed"
    },
    "tags": []
   },
   "source": [
    "### 4.2 Select Appropriate Test"
   ]
  },
  {
   "cell_type": "markdown",
   "id": "4b339731",
   "metadata": {
    "papermill": {
     "duration": 0.019009,
     "end_time": "2023-07-10T02:11:27.007660",
     "exception": false,
     "start_time": "2023-07-10T02:11:26.988651",
     "status": "completed"
    },
    "tags": []
   },
   "source": [
    "This is a problem, concerning three population means (Spa. One-way ANOVA could be the appropriate test here provided normality and equality of variance assumptions are verified.\n",
    "\n",
    "    For testing of normality, Shapiro-Wilk’s test is applied to the response variable.\n",
    "\n",
    "    For equality of variance, Levene test is applied to the response variable."
   ]
  },
  {
   "cell_type": "markdown",
   "id": "f47cfa68",
   "metadata": {
    "papermill": {
     "duration": 0.018655,
     "end_time": "2023-07-10T02:11:27.045649",
     "exception": false,
     "start_time": "2023-07-10T02:11:27.026994",
     "status": "completed"
    },
    "tags": []
   },
   "source": [
    "**Shapiro-Wilk’s test**\n",
    "\n",
    "We will test the null hypothesis\n",
    "\n",
    "    H0: The new page times follow a normal distribution\n",
    "\n",
    "against the alternative hypothesis\n",
    "\n",
    "    Ha: The new page times do not not follow a normal distribution"
   ]
  },
  {
   "cell_type": "code",
   "execution_count": 23,
   "id": "e0b516a3",
   "metadata": {
    "execution": {
     "iopub.execute_input": "2023-07-10T02:11:27.086115Z",
     "iopub.status.busy": "2023-07-10T02:11:27.085301Z",
     "iopub.status.idle": "2023-07-10T02:11:27.091499Z",
     "shell.execute_reply": "2023-07-10T02:11:27.090325Z"
    },
    "papermill": {
     "duration": 0.029179,
     "end_time": "2023-07-10T02:11:27.093806",
     "exception": false,
     "start_time": "2023-07-10T02:11:27.064627",
     "status": "completed"
    },
    "tags": []
   },
   "outputs": [
    {
     "name": "stdout",
     "output_type": "stream",
     "text": [
      "The p-value is 0.5643193125724792\n"
     ]
    }
   ],
   "source": [
    "# Assumption 1: Normality\n",
    "# Use the shapiro function for the scipy.stats library for this test\n",
    "\n",
    "# find the p-value\n",
    "w, p_value = stats.shapiro(df['time_spent_on_the_page']) \n",
    "print('The p-value is', p_value)"
   ]
  },
  {
   "cell_type": "code",
   "execution_count": 24,
   "id": "bc942cae",
   "metadata": {
    "execution": {
     "iopub.execute_input": "2023-07-10T02:11:27.134551Z",
     "iopub.status.busy": "2023-07-10T02:11:27.134171Z",
     "iopub.status.idle": "2023-07-10T02:11:27.178974Z",
     "shell.execute_reply": "2023-07-10T02:11:27.178150Z"
    },
    "papermill": {
     "duration": 0.067825,
     "end_time": "2023-07-10T02:11:27.180943",
     "exception": false,
     "start_time": "2023-07-10T02:11:27.113118",
     "status": "completed"
    },
    "tags": []
   },
   "outputs": [
    {
     "data": {
      "text/html": [
       "<div>\n",
       "<style scoped>\n",
       "    .dataframe tbody tr th:only-of-type {\n",
       "        vertical-align: middle;\n",
       "    }\n",
       "\n",
       "    .dataframe tbody tr th {\n",
       "        vertical-align: top;\n",
       "    }\n",
       "\n",
       "    .dataframe thead th {\n",
       "        text-align: right;\n",
       "    }\n",
       "</style>\n",
       "<table border=\"1\" class=\"dataframe\">\n",
       "  <thead>\n",
       "    <tr style=\"text-align: right;\">\n",
       "      <th>language_preferred</th>\n",
       "      <th>English</th>\n",
       "      <th>French</th>\n",
       "      <th>Spanish</th>\n",
       "      <th>All</th>\n",
       "    </tr>\n",
       "    <tr>\n",
       "      <th>landing_page</th>\n",
       "      <th></th>\n",
       "      <th></th>\n",
       "      <th></th>\n",
       "      <th></th>\n",
       "    </tr>\n",
       "  </thead>\n",
       "  <tbody>\n",
       "    <tr>\n",
       "      <th>new</th>\n",
       "      <td>16</td>\n",
       "      <td>17</td>\n",
       "      <td>17</td>\n",
       "      <td>50</td>\n",
       "    </tr>\n",
       "    <tr>\n",
       "      <th>All</th>\n",
       "      <td>16</td>\n",
       "      <td>17</td>\n",
       "      <td>17</td>\n",
       "      <td>50</td>\n",
       "    </tr>\n",
       "  </tbody>\n",
       "</table>\n",
       "</div>"
      ],
      "text/plain": [
       "language_preferred  English  French  Spanish  All\n",
       "landing_page                                     \n",
       "new                      16      17       17   50\n",
       "All                      16      17       17   50"
      ]
     },
     "execution_count": 24,
     "metadata": {},
     "output_type": "execute_result"
    }
   ],
   "source": [
    "#creates a contingency table \n",
    "newlang = pd.crosstab(newLP.landing_page, newLP.language_preferred, margins=True)\n",
    "newlang.head()"
   ]
  },
  {
   "cell_type": "markdown",
   "id": "35c479e2",
   "metadata": {
    "papermill": {
     "duration": 0.020741,
     "end_time": "2023-07-10T02:11:27.223250",
     "exception": false,
     "start_time": "2023-07-10T02:11:27.202509",
     "status": "completed"
    },
    "tags": []
   },
   "source": [
    "Since p-value of the test is much larger than the 5% significance level, we fail to reject the null hypothesis that the response follows the normal distribution."
   ]
  },
  {
   "cell_type": "markdown",
   "id": "1b9a4549",
   "metadata": {
    "papermill": {
     "duration": 0.021839,
     "end_time": "2023-07-10T02:11:27.264781",
     "exception": false,
     "start_time": "2023-07-10T02:11:27.242942",
     "status": "completed"
    },
    "tags": []
   },
   "source": [
    "**Levene’s test**\n",
    "\n",
    "We will test the null hypothesis\n",
    "\n",
    "    H0: All the population variances are equal\n",
    "\n",
    "against the alternative hypothesis\n",
    "\n",
    "    Ha: At least one variance is different from the rest"
   ]
  },
  {
   "cell_type": "code",
   "execution_count": 25,
   "id": "0f403d2f",
   "metadata": {
    "execution": {
     "iopub.execute_input": "2023-07-10T02:11:27.308432Z",
     "iopub.status.busy": "2023-07-10T02:11:27.307159Z",
     "iopub.status.idle": "2023-07-10T02:11:27.317827Z",
     "shell.execute_reply": "2023-07-10T02:11:27.316684Z"
    },
    "papermill": {
     "duration": 0.035088,
     "end_time": "2023-07-10T02:11:27.319946",
     "exception": false,
     "start_time": "2023-07-10T02:11:27.284858",
     "status": "completed"
    },
    "tags": []
   },
   "outputs": [
    {
     "name": "stdout",
     "output_type": "stream",
     "text": [
      "The p-value is 0.46711357711340173\n"
     ]
    }
   ],
   "source": [
    "#Assumption 2: Homogeneity of Variance\n",
    "# use levene function from scipy.stats library for this test\n",
    "\n",
    "# find the p-value using \"newLP\" defined for time spent on the new landing page in previous question\n",
    "statistic, p_value = stats.levene(newLP[newLP['language_preferred']=='English']['time_spent_on_the_page'],\n",
    "                            newLP[newLP['language_preferred']=='French']['time_spent_on_the_page'],\n",
    "                            newLP[newLP['language_preferred']=='Spanish']['time_spent_on_the_page'])\n",
    "print('The p-value is', p_value)"
   ]
  },
  {
   "cell_type": "markdown",
   "id": "de1286d3",
   "metadata": {
    "papermill": {
     "duration": 0.019304,
     "end_time": "2023-07-10T02:11:27.359105",
     "exception": false,
     "start_time": "2023-07-10T02:11:27.339801",
     "status": "completed"
    },
    "tags": []
   },
   "source": [
    "Since the p-value is larger than the 5% significance level, we fail to reject the null hypothesis of homogeneity of variances."
   ]
  },
  {
   "cell_type": "markdown",
   "id": "ae3b914e",
   "metadata": {
    "papermill": {
     "duration": 0.019753,
     "end_time": "2023-07-10T02:11:27.398512",
     "exception": false,
     "start_time": "2023-07-10T02:11:27.378759",
     "status": "completed"
    },
    "tags": []
   },
   "source": [
    "### 4.3 Prepare Data  "
   ]
  },
  {
   "cell_type": "code",
   "execution_count": 26,
   "id": "0efa58d2",
   "metadata": {
    "execution": {
     "iopub.execute_input": "2023-07-10T02:11:27.440807Z",
     "iopub.status.busy": "2023-07-10T02:11:27.440108Z",
     "iopub.status.idle": "2023-07-10T02:11:27.447117Z",
     "shell.execute_reply": "2023-07-10T02:11:27.446288Z"
    },
    "papermill": {
     "duration": 0.030309,
     "end_time": "2023-07-10T02:11:27.449454",
     "exception": false,
     "start_time": "2023-07-10T02:11:27.419145",
     "status": "completed"
    },
    "tags": []
   },
   "outputs": [],
   "source": [
    "# separate the time spent on page with respect to the three languages\n",
    "time_english = newLP[newLP['language_preferred']=='English']['time_spent_on_the_page']\n",
    "time_french = newLP[newLP['language_preferred']=='French']['time_spent_on_the_page']\n",
    "time_spanish = newLP[newLP['language_preferred']=='Spanish']['time_spent_on_the_page']\n"
   ]
  },
  {
   "cell_type": "markdown",
   "id": "9c66cf1f",
   "metadata": {
    "papermill": {
     "duration": 0.021085,
     "end_time": "2023-07-10T02:11:27.490757",
     "exception": false,
     "start_time": "2023-07-10T02:11:27.469672",
     "status": "completed"
    },
    "tags": []
   },
   "source": [
    "### 4.4 Calculate the p-value"
   ]
  },
  {
   "cell_type": "code",
   "execution_count": 27,
   "id": "cf4c3fe2",
   "metadata": {
    "execution": {
     "iopub.execute_input": "2023-07-10T02:11:27.532881Z",
     "iopub.status.busy": "2023-07-10T02:11:27.532122Z",
     "iopub.status.idle": "2023-07-10T02:11:27.538300Z",
     "shell.execute_reply": "2023-07-10T02:11:27.537008Z"
    },
    "papermill": {
     "duration": 0.029956,
     "end_time": "2023-07-10T02:11:27.540413",
     "exception": false,
     "start_time": "2023-07-10T02:11:27.510457",
     "status": "completed"
    },
    "tags": []
   },
   "outputs": [
    {
     "name": "stdout",
     "output_type": "stream",
     "text": [
      "The p-value is  0.43204138694325955\n"
     ]
    }
   ],
   "source": [
    "#perform one-way anova test using the f_oneway function from scipy.stats library\n",
    "test_stat, p_value = stats.f_oneway(time_english, time_french, time_spanish)\n",
    "print('The p-value is ', p_value)"
   ]
  },
  {
   "cell_type": "markdown",
   "id": "645634ff",
   "metadata": {
    "papermill": {
     "duration": 0.019424,
     "end_time": "2023-07-10T02:11:27.580561",
     "exception": false,
     "start_time": "2023-07-10T02:11:27.561137",
     "status": "completed"
    },
    "tags": []
   },
   "source": [
    "### 4.5 Conclusion"
   ]
  },
  {
   "cell_type": "code",
   "execution_count": 28,
   "id": "59cba92f",
   "metadata": {
    "execution": {
     "iopub.execute_input": "2023-07-10T02:11:27.623617Z",
     "iopub.status.busy": "2023-07-10T02:11:27.622856Z",
     "iopub.status.idle": "2023-07-10T02:11:27.628659Z",
     "shell.execute_reply": "2023-07-10T02:11:27.627874Z"
    },
    "papermill": {
     "duration": 0.029572,
     "end_time": "2023-07-10T02:11:27.630765",
     "exception": false,
     "start_time": "2023-07-10T02:11:27.601193",
     "status": "completed"
    },
    "tags": []
   },
   "outputs": [
    {
     "name": "stdout",
     "output_type": "stream",
     "text": [
      "As the p-value 0.43204138694325955 is greater than the level of significance, we fail to reject the null hypothesis.\n"
     ]
    }
   ],
   "source": [
    "# print the conclusion based on p-value\n",
    "if p_value < 0.05:\n",
    "    print(f'As the p-value {p_value} is less than the level of significance, we reject the null hypothesis.')\n",
    "else:\n",
    "    print(f'As the p-value {p_value} is greater than the level of significance, we fail to reject the null hypothesis.')"
   ]
  },
  {
   "cell_type": "markdown",
   "id": "5239b314",
   "metadata": {
    "papermill": {
     "duration": 0.020393,
     "end_time": "2023-07-10T02:11:27.671138",
     "exception": false,
     "start_time": "2023-07-10T02:11:27.650745",
     "status": "completed"
    },
    "tags": []
   },
   "source": [
    "Since the p-value is greater than the 5% significance level, we retain the null hypothesis. Hence, we have enough statistical evidence to say that the mean time spent on the new landing page with respect to the three preferred languages are relativelythe same."
   ]
  },
  {
   "cell_type": "code",
   "execution_count": 29,
   "id": "49662009",
   "metadata": {
    "execution": {
     "iopub.execute_input": "2023-07-10T02:11:27.712198Z",
     "iopub.status.busy": "2023-07-10T02:11:27.711779Z",
     "iopub.status.idle": "2023-07-10T02:11:27.937077Z",
     "shell.execute_reply": "2023-07-10T02:11:27.935693Z"
    },
    "papermill": {
     "duration": 0.248616,
     "end_time": "2023-07-10T02:11:27.939393",
     "exception": false,
     "start_time": "2023-07-10T02:11:27.690777",
     "status": "completed"
    },
    "tags": []
   },
   "outputs": [
    {
     "data": {
      "image/png": "[encoded data removed]",
      "text/plain": [
       "<Figure size 640x480 with 1 Axes>"
      ]
     },
     "metadata": {},
     "output_type": "display_data"
    }
   ],
   "source": [
    "# visual analysis of preferred languages and time they spent on new landing page \n",
    "sns.boxplot(x=\"language_preferred\", y=\"time_spent_on_the_page\", data = newLP, showmeans=True)\n",
    "plt.grid()\n",
    "plt.show()"
   ]
  },
  {
   "cell_type": "code",
   "execution_count": null,
   "id": "0b3b36a8",
   "metadata": {
    "papermill": {
     "duration": 0.02027,
     "end_time": "2023-07-10T02:11:27.979975",
     "exception": false,
     "start_time": "2023-07-10T02:11:27.959705",
     "status": "completed"
    },
    "tags": []
   },
   "outputs": [],
   "source": []
  }
 ],
 "metadata": {
  "kernelspec": {
   "display_name": "Python 3",
   "language": "python",
   "name": "python3"
  },
  "language_info": {
   "codemirror_mode": {
    "name": "ipython",
    "version": 3
   },
   "file_extension": ".py",
   "mimetype": "text/x-python",
   "name": "python",
   "nbconvert_exporter": "python",
   "pygments_lexer": "ipython3",
   "version": "3.10.10"
  },
  "papermill": {
   "default_parameters": {},
   "duration": 20.65299,
   "end_time": "2023-07-10T02:11:29.223169",
   "environment_variables": {},
   "exception": null,
   "input_path": "__notebook__.ipynb",
   "output_path": "__notebook__.ipynb",
   "parameters": {},
   "start_time": "2023-07-10T02:11:08.570179",
   "version": "2.4.0"
  }
 },
 "nbformat": 4,
 "nbformat_minor": 5
}
