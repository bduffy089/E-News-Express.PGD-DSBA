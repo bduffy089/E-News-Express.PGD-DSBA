{
 "cells": [
  {
   "cell_type": "markdown",
   "id": "ee1597ad",
   "metadata": {},
   "source": [
    "## Problem Definition\n",
    "\n",
    "An online news portal aims to expand its business by acquiring new subscribers. Every visitor to the website takes certain actions based on their interest. The company plans to analyze these interests and wants to determine whether a new feature will be effective or not. Companies often analyze users' responses to two variants of a product to decide which of the two variants is more effective. This experimental technique is known as a/b testing that is used to determine whether a new feature attracts users based on a chosen metric.\n",
    "\n",
    "Suppose you are hired as a Data Scientist in E-news Express. The design team of the company has created a new landing page. You have been assigned the task to decide whether the new landing page is more effective to gather new subscribers. Suppose you randomly selected 100 users and divided them equally into two groups. The old landing page is served to the first group (control group) and the new landing page is served to the second group (treatment group). Various data about the customers in both groups are collected in 'abtest.csv'. Perform the statistical analysis to answer the following questions using the collected data."
   ]
  },
  {
   "cell_type": "markdown",
   "id": "08501d00",
   "metadata": {},
   "source": [
    "## Objective: \n",
    "\n",
    "Statistical analysis of business data. Explore the dataset and extract insights from the data. The idea is for you to get comfortable with doing statistical analysis in Python.\n",
    "\n",
    "You are expected to perform the statistical analysis to answer the following questions:\n",
    "\n",
    " 1. Explore the dataset and extract insights using Exploratory Data Analysis.\n",
    " 2. Do the users spend more time on the new landing page than the old landing page?\n",
    " 3. Is the conversion rate (the proportion of users who visit the landing page and get converted) for the new page greater than the conversion rate for the old page?\n",
    " 4. Does the converted status depend on the preferred language? [Hint: Create a contingency table using the pandas.crosstab() function]\n",
    " 5. Is the mean time spent on the new page same for the different language users?\n",
    "\n",
    "*Consider a significance level of 0.05 for all tests."
   ]
  },
  {
   "cell_type": "markdown",
   "id": "9985a58c",
   "metadata": {},
   "source": [
    "### Import Libraries "
   ]
  },
  {
   "cell_type": "code",
   "execution_count": 3,
   "id": "153dd3be",
   "metadata": {},
   "outputs": [],
   "source": [
    "#import the important packages\n",
    "import pandas as pd #library used for data manipulation and analysis\n",
    "import numpy as np # library used for working with arrays.\n",
    "import matplotlib.pyplot as plt # library for plots and visualisations\n",
    "import seaborn as sns # library for visualisations\n",
    "%matplotlib inline \n",
    "\n",
    "import scipy.stats as stats # this library contains a large number of probability distributions "
   ]
  },
  {
   "cell_type": "markdown",
   "id": "b3d7b8ea",
   "metadata": {},
   "source": [
    "### Reading the data into the DataFrame "
   ]
  },
  {
   "cell_type": "code",
   "execution_count": 4,
   "id": "5e4a1614",
   "metadata": {},
   "outputs": [
    {
     "data": {
      "text/html": [
       "<div>\n",
       "<style scoped>\n",
       "    .dataframe tbody tr th:only-of-type {\n",
       "        vertical-align: middle;\n",
       "    }\n",
       "\n",
       "    .dataframe tbody tr th {\n",
       "        vertical-align: top;\n",
       "    }\n",
       "\n",
       "    .dataframe thead th {\n",
       "        text-align: right;\n",
       "    }\n",
       "</style>\n",
       "<table border=\"1\" class=\"dataframe\">\n",
       "  <thead>\n",
       "    <tr style=\"text-align: right;\">\n",
       "      <th></th>\n",
       "      <th>user_id</th>\n",
       "      <th>group</th>\n",
       "      <th>landing_page</th>\n",
       "      <th>time_spent_on_the_page</th>\n",
       "      <th>converted</th>\n",
       "      <th>language_preferred</th>\n",
       "    </tr>\n",
       "  </thead>\n",
       "  <tbody>\n",
       "    <tr>\n",
       "      <th>0</th>\n",
       "      <td>546592</td>\n",
       "      <td>control</td>\n",
       "      <td>old</td>\n",
       "      <td>3.48</td>\n",
       "      <td>no</td>\n",
       "      <td>Spanish</td>\n",
       "    </tr>\n",
       "    <tr>\n",
       "      <th>1</th>\n",
       "      <td>546468</td>\n",
       "      <td>treatment</td>\n",
       "      <td>new</td>\n",
       "      <td>7.13</td>\n",
       "      <td>yes</td>\n",
       "      <td>English</td>\n",
       "    </tr>\n",
       "    <tr>\n",
       "      <th>2</th>\n",
       "      <td>546462</td>\n",
       "      <td>treatment</td>\n",
       "      <td>new</td>\n",
       "      <td>4.40</td>\n",
       "      <td>no</td>\n",
       "      <td>Spanish</td>\n",
       "    </tr>\n",
       "    <tr>\n",
       "      <th>3</th>\n",
       "      <td>546567</td>\n",
       "      <td>control</td>\n",
       "      <td>old</td>\n",
       "      <td>3.02</td>\n",
       "      <td>no</td>\n",
       "      <td>French</td>\n",
       "    </tr>\n",
       "    <tr>\n",
       "      <th>4</th>\n",
       "      <td>546459</td>\n",
       "      <td>treatment</td>\n",
       "      <td>new</td>\n",
       "      <td>4.75</td>\n",
       "      <td>yes</td>\n",
       "      <td>Spanish</td>\n",
       "    </tr>\n",
       "    <tr>\n",
       "      <th>5</th>\n",
       "      <td>546558</td>\n",
       "      <td>control</td>\n",
       "      <td>old</td>\n",
       "      <td>5.28</td>\n",
       "      <td>yes</td>\n",
       "      <td>English</td>\n",
       "    </tr>\n",
       "    <tr>\n",
       "      <th>6</th>\n",
       "      <td>546448</td>\n",
       "      <td>treatment</td>\n",
       "      <td>new</td>\n",
       "      <td>5.25</td>\n",
       "      <td>yes</td>\n",
       "      <td>French</td>\n",
       "    </tr>\n",
       "    <tr>\n",
       "      <th>7</th>\n",
       "      <td>546581</td>\n",
       "      <td>control</td>\n",
       "      <td>old</td>\n",
       "      <td>6.53</td>\n",
       "      <td>yes</td>\n",
       "      <td>Spanish</td>\n",
       "    </tr>\n",
       "    <tr>\n",
       "      <th>8</th>\n",
       "      <td>546461</td>\n",
       "      <td>treatment</td>\n",
       "      <td>new</td>\n",
       "      <td>10.71</td>\n",
       "      <td>yes</td>\n",
       "      <td>French</td>\n",
       "    </tr>\n",
       "    <tr>\n",
       "      <th>9</th>\n",
       "      <td>546548</td>\n",
       "      <td>control</td>\n",
       "      <td>old</td>\n",
       "      <td>2.08</td>\n",
       "      <td>no</td>\n",
       "      <td>English</td>\n",
       "    </tr>\n",
       "  </tbody>\n",
       "</table>\n",
       "</div>"
      ],
      "text/plain": [
       "   user_id      group landing_page  time_spent_on_the_page converted  \\\n",
       "0   546592    control          old                    3.48        no   \n",
       "1   546468  treatment          new                    7.13       yes   \n",
       "2   546462  treatment          new                    4.40        no   \n",
       "3   546567    control          old                    3.02        no   \n",
       "4   546459  treatment          new                    4.75       yes   \n",
       "5   546558    control          old                    5.28       yes   \n",
       "6   546448  treatment          new                    5.25       yes   \n",
       "7   546581    control          old                    6.53       yes   \n",
       "8   546461  treatment          new                   10.71       yes   \n",
       "9   546548    control          old                    2.08        no   \n",
       "\n",
       "  language_preferred  \n",
       "0            Spanish  \n",
       "1            English  \n",
       "2            Spanish  \n",
       "3             French  \n",
       "4            Spanish  \n",
       "5            English  \n",
       "6             French  \n",
       "7            Spanish  \n",
       "8             French  \n",
       "9            English  "
      ]
     },
     "execution_count": 4,
     "metadata": {},
     "output_type": "execute_result"
    }
   ],
   "source": [
    "df = pd.read_csv('abtest.csv')\n",
    "df.head(10)"
   ]
  },
  {
   "cell_type": "code",
   "execution_count": 5,
   "id": "dd11bcc5",
   "metadata": {},
   "outputs": [
    {
     "data": {
      "text/plain": [
       "(100, 6)"
      ]
     },
     "execution_count": 5,
     "metadata": {},
     "output_type": "execute_result"
    }
   ],
   "source": [
    "# shape of the dataset\n",
    "df.shape"
   ]
  },
  {
   "cell_type": "markdown",
   "id": "f1fe9131",
   "metadata": {},
   "source": [
    " - The dataset contains 30 rows and 3 columns"
   ]
  },
  {
   "cell_type": "code",
   "execution_count": 6,
   "id": "8e69e9d1",
   "metadata": {},
   "outputs": [
    {
     "name": "stdout",
     "output_type": "stream",
     "text": [
      "<class 'pandas.core.frame.DataFrame'>\n",
      "RangeIndex: 100 entries, 0 to 99\n",
      "Data columns (total 6 columns):\n",
      " #   Column                  Non-Null Count  Dtype  \n",
      "---  ------                  --------------  -----  \n",
      " 0   user_id                 100 non-null    int64  \n",
      " 1   group                   100 non-null    object \n",
      " 2   landing_page            100 non-null    object \n",
      " 3   time_spent_on_the_page  100 non-null    float64\n",
      " 4   converted               100 non-null    object \n",
      " 5   language_preferred      100 non-null    object \n",
      "dtypes: float64(1), int64(1), object(4)\n",
      "memory usage: 4.8+ KB\n"
     ]
    }
   ],
   "source": [
    "df.info() #checks info"
   ]
  },
  {
   "cell_type": "markdown",
   "id": "7c7a4e24",
   "metadata": {},
   "source": [
    "- There are 2 numeric columns and 4 object columns, 100 total entries"
   ]
  },
  {
   "cell_type": "code",
   "execution_count": 7,
   "id": "b44e0a08",
   "metadata": {},
   "outputs": [
    {
     "name": "stdout",
     "output_type": "stream",
     "text": [
      "<class 'pandas.core.frame.DataFrame'>\n",
      "RangeIndex: 100 entries, 0 to 99\n",
      "Data columns (total 6 columns):\n",
      " #   Column                  Non-Null Count  Dtype   \n",
      "---  ------                  --------------  -----   \n",
      " 0   user_id                 100 non-null    int64   \n",
      " 1   group                   100 non-null    category\n",
      " 2   landing_page            100 non-null    category\n",
      " 3   time_spent_on_the_page  100 non-null    float64 \n",
      " 4   converted               100 non-null    category\n",
      " 5   language_preferred      100 non-null    category\n",
      "dtypes: category(4), float64(1), int64(1)\n",
      "memory usage: 2.6 KB\n"
     ]
    }
   ],
   "source": [
    "# categorical column should be converted to categorical type \n",
    "\n",
    "df['group']= df.group.astype('category')\n",
    "df['landing_page']= df.landing_page.astype('category')\n",
    "df['converted']= df.converted.astype('category')\n",
    "df['language_preferred']= df.language_preferred.astype('category')\n",
    "df.info() #checks info"
   ]
  },
  {
   "cell_type": "markdown",
   "id": "fe2b5b6d",
   "metadata": {},
   "source": [
    "## Exploratory Data Analysis"
   ]
  },
  {
   "cell_type": "code",
   "execution_count": 8,
   "id": "477549d5",
   "metadata": {},
   "outputs": [
    {
     "name": "stdout",
     "output_type": "stream",
     "text": [
      "control      50\n",
      "treatment    50\n",
      "Name: group, dtype: int64\n",
      "--------------------------------------------------\n",
      "new    50\n",
      "old    50\n",
      "Name: landing_page, dtype: int64\n",
      "--------------------------------------------------\n",
      "yes    54\n",
      "no     46\n",
      "Name: converted, dtype: int64\n",
      "--------------------------------------------------\n",
      "French     34\n",
      "Spanish    34\n",
      "English    32\n",
      "Name: language_preferred, dtype: int64\n",
      "--------------------------------------------------\n"
     ]
    }
   ],
   "source": [
    "#Making a list of all catrgorical variables \n",
    "cat_col=['group', 'landing_page', 'converted','language_preferred']\n",
    "\n",
    "#Printing number of count of each unique value in each column\n",
    "for column in cat_col:\n",
    "    print(df[column].value_counts())\n",
    "    print('-'*50)"
   ]
  },
  {
   "cell_type": "markdown",
   "id": "7b6b55ff",
   "metadata": {},
   "source": [
    "**Observations**\n",
    "\n",
    " - Groups are divided equally by \"control\" and \"treatment\" as well as by \"new\" and \"old\" \n",
    " - 54 have been converted and 46 have not \n",
    " - equal number of French and Spanish with the least speaking English "
   ]
  },
  {
   "cell_type": "code",
   "execution_count": 9,
   "id": "20e23675",
   "metadata": {},
   "outputs": [
    {
     "data": {
      "text/html": [
       "<div>\n",
       "<style scoped>\n",
       "    .dataframe tbody tr th:only-of-type {\n",
       "        vertical-align: middle;\n",
       "    }\n",
       "\n",
       "    .dataframe tbody tr th {\n",
       "        vertical-align: top;\n",
       "    }\n",
       "\n",
       "    .dataframe thead th {\n",
       "        text-align: right;\n",
       "    }\n",
       "</style>\n",
       "<table border=\"1\" class=\"dataframe\">\n",
       "  <thead>\n",
       "    <tr style=\"text-align: right;\">\n",
       "      <th></th>\n",
       "      <th>time_spent_on_the_page</th>\n",
       "    </tr>\n",
       "  </thead>\n",
       "  <tbody>\n",
       "    <tr>\n",
       "      <th>count</th>\n",
       "      <td>100.000000</td>\n",
       "    </tr>\n",
       "    <tr>\n",
       "      <th>mean</th>\n",
       "      <td>5.377800</td>\n",
       "    </tr>\n",
       "    <tr>\n",
       "      <th>std</th>\n",
       "      <td>2.378166</td>\n",
       "    </tr>\n",
       "    <tr>\n",
       "      <th>min</th>\n",
       "      <td>0.190000</td>\n",
       "    </tr>\n",
       "    <tr>\n",
       "      <th>25%</th>\n",
       "      <td>3.880000</td>\n",
       "    </tr>\n",
       "    <tr>\n",
       "      <th>50%</th>\n",
       "      <td>5.415000</td>\n",
       "    </tr>\n",
       "    <tr>\n",
       "      <th>75%</th>\n",
       "      <td>7.022500</td>\n",
       "    </tr>\n",
       "    <tr>\n",
       "      <th>max</th>\n",
       "      <td>10.710000</td>\n",
       "    </tr>\n",
       "  </tbody>\n",
       "</table>\n",
       "</div>"
      ],
      "text/plain": [
       "       time_spent_on_the_page\n",
       "count              100.000000\n",
       "mean                 5.377800\n",
       "std                  2.378166\n",
       "min                  0.190000\n",
       "25%                  3.880000\n",
       "50%                  5.415000\n",
       "75%                  7.022500\n",
       "max                 10.710000"
      ]
     },
     "execution_count": 9,
     "metadata": {},
     "output_type": "execute_result"
    }
   ],
   "source": [
    "df = df.drop(['user_id'], axis=1)\n",
    "df.describe() #summarizes numeric data"
   ]
  },
  {
   "cell_type": "markdown",
   "id": "15304662",
   "metadata": {},
   "source": [
    " **Summary**\n",
    "\n",
    " - Mean is 5.378 with Std Dev of 2.378\n",
    " - Max time spent on page is ~11 minutes "
   ]
  },
  {
   "cell_type": "markdown",
   "id": "165f6bb5",
   "metadata": {},
   "source": [
    "## Univariate Analysis"
   ]
  },
  {
   "cell_type": "code",
   "execution_count": 10,
   "id": "84fb541d",
   "metadata": {},
   "outputs": [
    {
     "data": {
      "image/png": "[encoded data removed]",
      "text/plain": [
       "<Figure size 432x288 with 1 Axes>"
      ]
     },
     "metadata": {
      "needs_background": "light"
     },
     "output_type": "display_data"
    }
   ],
   "source": [
    "# visual analysis of control vs. treatment group\n",
    "sns.boxplot(x=\"group\", y=\"time_spent_on_the_page\", data = df, showmeans=True)\n",
    "plt.grid()\n",
    "plt.show()"
   ]
  },
  {
   "cell_type": "markdown",
   "id": "7eac94fd",
   "metadata": {},
   "source": [
    "- control group shows a much larger variance on time spent on the page"
   ]
  },
  {
   "cell_type": "code",
   "execution_count": 11,
   "id": "6088f613",
   "metadata": {},
   "outputs": [
    {
     "data": {
      "image/png": "[encoded data removed]",
      "text/plain": [
       "<Figure size 432x288 with 1 Axes>"
      ]
     },
     "metadata": {
      "needs_background": "light"
     },
     "output_type": "display_data"
    }
   ],
   "source": [
    "# visual analysis of old page vs. new page \n",
    "sns.boxplot(x=\"landing_page\", y=\"time_spent_on_the_page\", data = df, showmeans=True)\n",
    "plt.grid()\n",
    "plt.show()"
   ]
  },
  {
   "cell_type": "markdown",
   "id": "ffb87614",
   "metadata": {},
   "source": [
    " - Greater range spent on old landing with lower mean of 4 minutes"
   ]
  },
  {
   "cell_type": "code",
   "execution_count": 12,
   "id": "05d8402a",
   "metadata": {},
   "outputs": [
    {
     "data": {
      "image/png": "[encoded data removed]",
      "text/plain": [
       "<Figure size 432x288 with 1 Axes>"
      ]
     },
     "metadata": {
      "needs_background": "light"
     },
     "output_type": "display_data"
    }
   ],
   "source": [
    "# visual analysis of different languages and time they spents on both landing pages \n",
    "sns.boxplot(x=\"language_preferred\", y=\"time_spent_on_the_page\", data = df, showmeans=True)\n",
    "plt.grid()\n",
    "plt.show()"
   ]
  },
  {
   "cell_type": "markdown",
   "id": "6f9c05b7",
   "metadata": {},
   "source": [
    "- Similar means with Spanish having a larger variance "
   ]
  },
  {
   "cell_type": "code",
   "execution_count": 13,
   "id": "1a83f78f",
   "metadata": {
    "scrolled": true
   },
   "outputs": [
    {
     "data": {
      "image/png": "[encoded data removed]",
      "text/plain": [
       "<Figure size 432x288 with 1 Axes>"
      ]
     },
     "metadata": {
      "needs_background": "light"
     },
     "output_type": "display_data"
    }
   ],
   "source": [
    "# visual analysis of coverted vs. not converted\n",
    "sns.boxplot(x=\"converted\", y=\"time_spent_on_the_page\", data = df, showmeans=True)\n",
    "plt.grid()\n",
    "plt.show()"
   ]
  },
  {
   "cell_type": "markdown",
   "id": "a6bcab39",
   "metadata": {},
   "source": [
    " - Very clearly indicates converted group spends more time"
   ]
  },
  {
   "cell_type": "markdown",
   "id": "a62f19db",
   "metadata": {},
   "source": [
    "# Multivariate Analysis"
   ]
  },
  {
   "cell_type": "code",
   "execution_count": 14,
   "id": "7cab2586",
   "metadata": {},
   "outputs": [
    {
     "data": {
      "text/plain": [
       "<seaborn.axisgrid.FacetGrid at 0x7fede0dbeb50>"
      ]
     },
     "execution_count": 14,
     "metadata": {},
     "output_type": "execute_result"
    },
    {
     "data": {
      "text/plain": [
       "<Figure size 864x504 with 0 Axes>"
      ]
     },
     "metadata": {},
     "output_type": "display_data"
    },
    {
     "data": {
      "image/png": "[encoded data removed]",
      "text/plain": [
       "<Figure size 826.125x360 with 2 Axes>"
      ]
     },
     "metadata": {
      "needs_background": "light"
     },
     "output_type": "display_data"
    }
   ],
   "source": [
    "plt.figure(figsize=(12,7))\n",
    "sns.catplot(x='converted', y='time_spent_on_the_page', col='group', hue='language_preferred', kind=\"bar\", data=df, palette=\"viridis\")"
   ]
  },
  {
   "cell_type": "markdown",
   "id": "89c84b0e",
   "metadata": {},
   "source": [
    " - In both groups those spending the most time on the page appear to be converted\n",
    " "
   ]
  },
  {
   "cell_type": "code",
   "execution_count": 15,
   "id": "bc2a0d1a",
   "metadata": {},
   "outputs": [
    {
     "data": {
      "text/plain": [
       "<seaborn.axisgrid.FacetGrid at 0x7fede0dbedc0>"
      ]
     },
     "execution_count": 15,
     "metadata": {},
     "output_type": "execute_result"
    },
    {
     "data": {
      "image/png": "[encoded data removed]",
      "text/plain": [
       "<Figure size 579.25x504 with 1 Axes>"
      ]
     },
     "metadata": {
      "needs_background": "light"
     },
     "output_type": "display_data"
    }
   ],
   "source": [
    "#scatter plot between conversion, time, and landing page\n",
    "sns.relplot(x='converted', y='time_spent_on_the_page', hue='landing_page', alpha=.4, palette=\"plasma\",\n",
    "            height=7, data=df).set(title='Conversion Related to Time Spent and Landing Page')"
   ]
  },
  {
   "cell_type": "markdown",
   "id": "ad6d0563",
   "metadata": {},
   "source": [
    " - Appears many unconverted vistors were from the old page or control group"
   ]
  },
  {
   "cell_type": "markdown",
   "id": "163f933c",
   "metadata": {},
   "source": [
    "## 1. Do users spend more time on the new landing page than the old landing page?"
   ]
  },
  {
   "cell_type": "markdown",
   "id": "2cf6c318",
   "metadata": {},
   "source": [
    " ### 1.1 Let's write the null and alternative hypothesis"
   ]
  },
  {
   "cell_type": "markdown",
   "id": "3cb54a86",
   "metadata": {},
   "source": [
    "\n",
    "Let μn,μo be the mean time spent on new and old landing pages respectively.\n",
    "\n",
    "We will test the null hypothesis\n",
    "\n",
    "    H0:μn=μo\n",
    "\n",
    "against the alternate hypothesis\n",
    "\n",
    "    Ha:μn>μo\n",
    "    "
   ]
  },
  {
   "cell_type": "markdown",
   "id": "d6991e77",
   "metadata": {},
   "source": [
    "### 1.2 Dividing population samples  "
   ]
  },
  {
   "cell_type": "code",
   "execution_count": 16,
   "id": "60b2cec3",
   "metadata": {},
   "outputs": [
    {
     "data": {
      "text/html": [
       "<div>\n",
       "<style scoped>\n",
       "    .dataframe tbody tr th:only-of-type {\n",
       "        vertical-align: middle;\n",
       "    }\n",
       "\n",
       "    .dataframe tbody tr th {\n",
       "        vertical-align: top;\n",
       "    }\n",
       "\n",
       "    .dataframe thead th {\n",
       "        text-align: right;\n",
       "    }\n",
       "</style>\n",
       "<table border=\"1\" class=\"dataframe\">\n",
       "  <thead>\n",
       "    <tr style=\"text-align: right;\">\n",
       "      <th></th>\n",
       "      <th>group</th>\n",
       "      <th>landing_page</th>\n",
       "      <th>time_spent_on_the_page</th>\n",
       "      <th>converted</th>\n",
       "      <th>language_preferred</th>\n",
       "    </tr>\n",
       "  </thead>\n",
       "  <tbody>\n",
       "    <tr>\n",
       "      <th>1</th>\n",
       "      <td>treatment</td>\n",
       "      <td>new</td>\n",
       "      <td>7.13</td>\n",
       "      <td>yes</td>\n",
       "      <td>English</td>\n",
       "    </tr>\n",
       "    <tr>\n",
       "      <th>2</th>\n",
       "      <td>treatment</td>\n",
       "      <td>new</td>\n",
       "      <td>4.40</td>\n",
       "      <td>no</td>\n",
       "      <td>Spanish</td>\n",
       "    </tr>\n",
       "    <tr>\n",
       "      <th>4</th>\n",
       "      <td>treatment</td>\n",
       "      <td>new</td>\n",
       "      <td>4.75</td>\n",
       "      <td>yes</td>\n",
       "      <td>Spanish</td>\n",
       "    </tr>\n",
       "    <tr>\n",
       "      <th>6</th>\n",
       "      <td>treatment</td>\n",
       "      <td>new</td>\n",
       "      <td>5.25</td>\n",
       "      <td>yes</td>\n",
       "      <td>French</td>\n",
       "    </tr>\n",
       "    <tr>\n",
       "      <th>8</th>\n",
       "      <td>treatment</td>\n",
       "      <td>new</td>\n",
       "      <td>10.71</td>\n",
       "      <td>yes</td>\n",
       "      <td>French</td>\n",
       "    </tr>\n",
       "  </tbody>\n",
       "</table>\n",
       "</div>"
      ],
      "text/plain": [
       "       group landing_page  time_spent_on_the_page converted language_preferred\n",
       "1  treatment          new                    7.13       yes            English\n",
       "2  treatment          new                    4.40        no            Spanish\n",
       "4  treatment          new                    4.75       yes            Spanish\n",
       "6  treatment          new                    5.25       yes             French\n",
       "8  treatment          new                   10.71       yes             French"
      ]
     },
     "execution_count": 16,
     "metadata": {},
     "output_type": "execute_result"
    }
   ],
   "source": [
    "#create df for new landing page\n",
    "newLP = df.loc[df.landing_page==\"new\"]\n",
    "newLP.head()"
   ]
  },
  {
   "cell_type": "code",
   "execution_count": 17,
   "id": "ca854352",
   "metadata": {},
   "outputs": [
    {
     "data": {
      "text/html": [
       "<div>\n",
       "<style scoped>\n",
       "    .dataframe tbody tr th:only-of-type {\n",
       "        vertical-align: middle;\n",
       "    }\n",
       "\n",
       "    .dataframe tbody tr th {\n",
       "        vertical-align: top;\n",
       "    }\n",
       "\n",
       "    .dataframe thead th {\n",
       "        text-align: right;\n",
       "    }\n",
       "</style>\n",
       "<table border=\"1\" class=\"dataframe\">\n",
       "  <thead>\n",
       "    <tr style=\"text-align: right;\">\n",
       "      <th></th>\n",
       "      <th>group</th>\n",
       "      <th>landing_page</th>\n",
       "      <th>time_spent_on_the_page</th>\n",
       "      <th>converted</th>\n",
       "      <th>language_preferred</th>\n",
       "    </tr>\n",
       "  </thead>\n",
       "  <tbody>\n",
       "    <tr>\n",
       "      <th>0</th>\n",
       "      <td>control</td>\n",
       "      <td>old</td>\n",
       "      <td>3.48</td>\n",
       "      <td>no</td>\n",
       "      <td>Spanish</td>\n",
       "    </tr>\n",
       "    <tr>\n",
       "      <th>3</th>\n",
       "      <td>control</td>\n",
       "      <td>old</td>\n",
       "      <td>3.02</td>\n",
       "      <td>no</td>\n",
       "      <td>French</td>\n",
       "    </tr>\n",
       "    <tr>\n",
       "      <th>5</th>\n",
       "      <td>control</td>\n",
       "      <td>old</td>\n",
       "      <td>5.28</td>\n",
       "      <td>yes</td>\n",
       "      <td>English</td>\n",
       "    </tr>\n",
       "    <tr>\n",
       "      <th>7</th>\n",
       "      <td>control</td>\n",
       "      <td>old</td>\n",
       "      <td>6.53</td>\n",
       "      <td>yes</td>\n",
       "      <td>Spanish</td>\n",
       "    </tr>\n",
       "    <tr>\n",
       "      <th>9</th>\n",
       "      <td>control</td>\n",
       "      <td>old</td>\n",
       "      <td>2.08</td>\n",
       "      <td>no</td>\n",
       "      <td>English</td>\n",
       "    </tr>\n",
       "  </tbody>\n",
       "</table>\n",
       "</div>"
      ],
      "text/plain": [
       "     group landing_page  time_spent_on_the_page converted language_preferred\n",
       "0  control          old                    3.48        no            Spanish\n",
       "3  control          old                    3.02        no             French\n",
       "5  control          old                    5.28       yes            English\n",
       "7  control          old                    6.53       yes            Spanish\n",
       "9  control          old                    2.08        no            English"
      ]
     },
     "execution_count": 17,
     "metadata": {},
     "output_type": "execute_result"
    }
   ],
   "source": [
    "#create df for old landing page \n",
    "oldLP = df.loc[df.landing_page==\"old\"]\n",
    "oldLP.head()"
   ]
  },
  {
   "cell_type": "code",
   "execution_count": 18,
   "id": "7ddf9ed3",
   "metadata": {},
   "outputs": [
    {
     "name": "stdout",
     "output_type": "stream",
     "text": [
      "The mean time spent on the new landing page is 4.53\n",
      "The mean time spent on the old landing page is 6.22\n",
      "The standard deviation of time spent on the new landing page is 2.58\n",
      "The standard deviation of time spent on the old landing page is 1.82\n"
     ]
    }
   ],
   "source": [
    "# find the sample means and sample standard deviations for the two samples\n",
    "print('The mean time spent on the new landing page is ' + str(round(oldLP['time_spent_on_the_page'].mean(),2)))\n",
    "print('The mean time spent on the old landing page is ' + str(round(newLP['time_spent_on_the_page'].mean(), 2)))\n",
    "print('The standard deviation of time spent on the new landing page is ' + str(round(oldLP['time_spent_on_the_page'].std(), 2)))\n",
    "print('The standard deviation of time spent on the old landing page is ' + str(round(newLP['time_spent_on_the_page'].std(), 2)))"
   ]
  },
  {
   "cell_type": "markdown",
   "id": "4478852e",
   "metadata": {},
   "source": [
    "### 1.3 Selecting Appropriate Test "
   ]
  },
  {
   "cell_type": "markdown",
   "id": "d4e7e583",
   "metadata": {},
   "source": [
    "**2 Sample Independent T-Test**\n",
    "- Continuous data \n",
    "- Normally distributed populations \n",
    "- Independent populations \n",
    "- Unequal population standard deviations \n",
    "- Random sampling from the population "
   ]
  },
  {
   "cell_type": "markdown",
   "id": "ad67d180",
   "metadata": {},
   "source": [
    "### 1.4 Finding the p-value"
   ]
  },
  {
   "cell_type": "code",
   "execution_count": 19,
   "id": "bbd0edac",
   "metadata": {},
   "outputs": [
    {
     "name": "stdout",
     "output_type": "stream",
     "text": [
      "The p-value is 0.0001392381225166549\n"
     ]
    }
   ],
   "source": [
    "#import the required functions\n",
    "from scipy.stats import ttest_ind\n",
    "\n",
    "# find the p-value\n",
    "test_stat, p_value = ttest_ind(newLP['time_spent_on_the_page'], oldLP['time_spent_on_the_page'].dropna(), equal_var = False, alternative = 'greater')\n",
    "print('The p-value is', p_value)"
   ]
  },
  {
   "cell_type": "markdown",
   "id": "7a3d3689",
   "metadata": {},
   "source": [
    "### 1.5 Insight"
   ]
  },
  {
   "cell_type": "markdown",
   "id": "d699fa09",
   "metadata": {},
   "source": [
    "As the p-value (~0.0001) is less than the level of significance, we can reject the null hypothesis. Hence, we do have enough evidence to say users do not spend equal time on the pages."
   ]
  },
  {
   "cell_type": "markdown",
   "id": "4a1d22f4",
   "metadata": {},
   "source": [
    "## 2. Is the conversion rate (the proportion of users who visit the landing page and get converted) for the new page greater than the conversion rate for the old page?"
   ]
  },
  {
   "cell_type": "markdown",
   "id": "e32fe80d",
   "metadata": {},
   "source": [
    "### 2.1 Let's write the null and alternative hypothesis"
   ]
  },
  {
   "cell_type": "markdown",
   "id": "0e173d7a",
   "metadata": {},
   "source": [
    "Let pn,po be the proportions of visitors who get converted from the new and old landing pages respectively.\n",
    "\n",
    "We will test the null hypothesis\n",
    "\n",
    "    H0:pn=po\n",
    "    \n",
    "against the alternate hypothesis\n",
    "\n",
    "    Ha:pn>po"
   ]
  },
  {
   "cell_type": "markdown",
   "id": "6dfdae4a",
   "metadata": {},
   "source": [
    "### 2.2 Preparing data for the test "
   ]
  },
  {
   "cell_type": "code",
   "execution_count": 20,
   "id": "ffd5e2a9",
   "metadata": {},
   "outputs": [
    {
     "name": "stdout",
     "output_type": "stream",
     "text": [
      "The number of vistors converted from the new and old landing pages are 33 and 21 respectively\n",
      "The total numbers of visitors on the new and old landing pages are 50 and 50 respectively\n"
     ]
    }
   ],
   "source": [
    "# number of converted visitors from new landing page \n",
    "new_converted = df[df['landing_page']=='new'].converted.value_counts()['yes']\n",
    "\n",
    "# number of converted visitors from old landing page\n",
    "old_converted = df[df['landing_page']=='old'].converted.value_counts()['yes']\n",
    "\n",
    "print('The number of vistors converted from the new and old landing pages are {0} and {1} respectively'.format(new_converted, old_converted))\n",
    "\n",
    "# number of visitors on old landing page \n",
    "n_new = df.landing_page.value_counts()['new']\n",
    "\n",
    "# number of visitors on new landing page\n",
    "n_old = df.landing_page.value_counts()['old']\n",
    "\n",
    "print('The total numbers of visitors on the new and old landing pages are {0} and {1} respectively'.format(n_new, n_old))"
   ]
  },
  {
   "cell_type": "code",
   "execution_count": 21,
   "id": "1e65de9f",
   "metadata": {},
   "outputs": [
    {
     "name": "stdout",
     "output_type": "stream",
     "text": [
      " The proportions of conversions from the new and old landing pages are 0.66, 0.42 respectively\n"
     ]
    }
   ],
   "source": [
    "print(f' The proportions of conversions from the new and old landing pages are {round(33/50,2)}, {round(21/50,2)} respectively')"
   ]
  },
  {
   "cell_type": "markdown",
   "id": "923c850f",
   "metadata": {},
   "source": [
    "- The proportions in the sample are different. Let's conduct the test to see if this difference is significant."
   ]
  },
  {
   "cell_type": "markdown",
   "id": "4e54ac53",
   "metadata": {},
   "source": [
    "### 2.3 Selecting Appropriate Test "
   ]
  },
  {
   "cell_type": "markdown",
   "id": "36865009",
   "metadata": {},
   "source": [
    " **2 Sample Proportions Z-Test**\n",
    " - Binomally distributed population\n",
    " - Random sampling from the population \n",
    " - binomial distribution approximated to normal distribution"
   ]
  },
  {
   "cell_type": "markdown",
   "id": "37db07f4",
   "metadata": {},
   "source": [
    "### 2.4 Finding the p-value "
   ]
  },
  {
   "cell_type": "code",
   "execution_count": 22,
   "id": "3e90591c",
   "metadata": {},
   "outputs": [
    {
     "name": "stdout",
     "output_type": "stream",
     "text": [
      "The p-value is 0.016052616408112556\n"
     ]
    }
   ],
   "source": [
    "# import the required function\n",
    "from statsmodels.stats.proportion import proportions_ztest\n",
    "\n",
    "# set the counts of converted visitors \n",
    "converted = np.array([33, 21])\n",
    "\n",
    "# set the sample sizes\n",
    "visitors = np.array([50, 50])\n",
    "\n",
    "# find the p-value\n",
    "test_stat, p_value = proportions_ztest(converted, visitors)\n",
    "print('The p-value is ' + str(p_value))"
   ]
  },
  {
   "cell_type": "markdown",
   "id": "33fbf37a",
   "metadata": {},
   "source": [
    "### 2.5 Insight"
   ]
  },
  {
   "cell_type": "markdown",
   "id": "d721f576",
   "metadata": {},
   "source": [
    "As the p-value is less than the significance level 0.05, we can reject the null hypothesis. We have strong evidence that the proportions of visitors visiting the old page and being converted is less than those getting converted from the new page. "
   ]
  },
  {
   "cell_type": "markdown",
   "id": "5c577e55",
   "metadata": {},
   "source": [
    "## 3. Does the converted status depend on preferred language? "
   ]
  },
  {
   "cell_type": "markdown",
   "id": "aec065df",
   "metadata": {},
   "source": [
    "### 3.1 Let's write the null and alternative hypothesis"
   ]
  },
  {
   "cell_type": "markdown",
   "id": "26d9e25e",
   "metadata": {},
   "source": [
    "We will test the null hypothesis\n",
    "\n",
    "    H0: Converted status is independent of preferred language.\n",
    "\n",
    "against the alternate hypothesis\n",
    "\n",
    "    Ha: Converted status depends on preferred language."
   ]
  },
  {
   "cell_type": "markdown",
   "id": "7af5f259",
   "metadata": {},
   "source": [
    "### 3.2 Preparing data for the test "
   ]
  },
  {
   "cell_type": "code",
   "execution_count": 23,
   "id": "dda33d58",
   "metadata": {},
   "outputs": [
    {
     "data": {
      "text/html": [
       "<div>\n",
       "<style scoped>\n",
       "    .dataframe tbody tr th:only-of-type {\n",
       "        vertical-align: middle;\n",
       "    }\n",
       "\n",
       "    .dataframe tbody tr th {\n",
       "        vertical-align: top;\n",
       "    }\n",
       "\n",
       "    .dataframe thead th {\n",
       "        text-align: right;\n",
       "    }\n",
       "</style>\n",
       "<table border=\"1\" class=\"dataframe\">\n",
       "  <thead>\n",
       "    <tr style=\"text-align: right;\">\n",
       "      <th>language_preferred</th>\n",
       "      <th>English</th>\n",
       "      <th>French</th>\n",
       "      <th>Spanish</th>\n",
       "      <th>All</th>\n",
       "    </tr>\n",
       "    <tr>\n",
       "      <th>converted</th>\n",
       "      <th></th>\n",
       "      <th></th>\n",
       "      <th></th>\n",
       "      <th></th>\n",
       "    </tr>\n",
       "  </thead>\n",
       "  <tbody>\n",
       "    <tr>\n",
       "      <th>no</th>\n",
       "      <td>11</td>\n",
       "      <td>19</td>\n",
       "      <td>16</td>\n",
       "      <td>46</td>\n",
       "    </tr>\n",
       "    <tr>\n",
       "      <th>yes</th>\n",
       "      <td>21</td>\n",
       "      <td>15</td>\n",
       "      <td>18</td>\n",
       "      <td>54</td>\n",
       "    </tr>\n",
       "    <tr>\n",
       "      <th>All</th>\n",
       "      <td>32</td>\n",
       "      <td>34</td>\n",
       "      <td>34</td>\n",
       "      <td>100</td>\n",
       "    </tr>\n",
       "  </tbody>\n",
       "</table>\n",
       "</div>"
      ],
      "text/plain": [
       "language_preferred  English  French  Spanish  All\n",
       "converted                                        \n",
       "no                       11      19       16   46\n",
       "yes                      21      15       18   54\n",
       "All                      32      34       34  100"
      ]
     },
     "execution_count": 23,
     "metadata": {},
     "output_type": "execute_result"
    }
   ],
   "source": [
    "#creates a contingency table \n",
    "convlange = pd.crosstab(df.converted, df.language_preferred, margins=True)\n",
    "convlange.head()"
   ]
  },
  {
   "cell_type": "markdown",
   "id": "48291456",
   "metadata": {},
   "source": [
    "### 3.3  Chi-Square Test of Independence"
   ]
  },
  {
   "cell_type": "markdown",
   "id": "e41a4521",
   "metadata": {},
   "source": [
    " - Categorical variables \n",
    " - Expected value of the number of sample observations in each level of the variable is at least 5 \n",
    " - Random sampling from the population "
   ]
  },
  {
   "cell_type": "markdown",
   "id": "aed14060",
   "metadata": {},
   "source": [
    "### 3.4 Find the p-value"
   ]
  },
  {
   "cell_type": "code",
   "execution_count": 24,
   "id": "665e1e08",
   "metadata": {},
   "outputs": [
    {
     "name": "stdout",
     "output_type": "stream",
     "text": [
      "The p-value is 0.7970832186581233\n"
     ]
    }
   ],
   "source": [
    "# import the required function\n",
    "from scipy.stats import chi2_contingency\n",
    "\n",
    "# find the p-value\n",
    "chi, p_value, dof, expected = chi2_contingency(convlange)\n",
    "print('The p-value is', p_value)"
   ]
  },
  {
   "cell_type": "markdown",
   "id": "bd63d586",
   "metadata": {},
   "source": [
    "### 3.5 Insight "
   ]
  },
  {
   "cell_type": "markdown",
   "id": "be39efdb",
   "metadata": {},
   "source": [
    "As the p-value is greater than the significance level, we can reject the null hypothesis. Hence, we do have enough statistical significance to conclude that converted status is independent of preferred language at 5% significance level."
   ]
  },
  {
   "cell_type": "markdown",
   "id": "73498d8f",
   "metadata": {},
   "source": [
    "## 4. Is the mean time spent on the new page same for different language users?"
   ]
  },
  {
   "cell_type": "markdown",
   "id": "05320142",
   "metadata": {},
   "source": [
    "### 4.1 Define the Null and Alternate Hypothesis"
   ]
  },
  {
   "cell_type": "markdown",
   "id": "2771d20d",
   "metadata": {},
   "source": [
    "H0 : The mean time spent on the new page with respect to each language is equal.\n",
    "\n",
    "Ha : At least one of the mean times spent on the new page with respect to preferred language is different."
   ]
  },
  {
   "cell_type": "markdown",
   "id": "836ec101",
   "metadata": {},
   "source": [
    "### 4.2 Select Appropriate Test"
   ]
  },
  {
   "cell_type": "markdown",
   "id": "b88c8580",
   "metadata": {},
   "source": [
    "This is a problem, concerning three population means (Spa. One-way ANOVA could be the appropriate test here provided normality and equality of variance assumptions are verified.\n",
    "\n",
    "    For testing of normality, Shapiro-Wilk’s test is applied to the response variable.\n",
    "\n",
    "    For equality of variance, Levene test is applied to the response variable."
   ]
  },
  {
   "cell_type": "markdown",
   "id": "322031ea",
   "metadata": {},
   "source": [
    "**Shapiro-Wilk’s test**\n",
    "\n",
    "We will test the null hypothesis\n",
    "\n",
    "    H0: The new page times follow a normal distribution\n",
    "\n",
    "against the alternative hypothesis\n",
    "\n",
    "    Ha: The new page times do not not follow a normal distribution"
   ]
  },
  {
   "cell_type": "code",
   "execution_count": 25,
   "id": "07de54d2",
   "metadata": {},
   "outputs": [
    {
     "name": "stdout",
     "output_type": "stream",
     "text": [
      "The p-value is 0.5643684267997742\n"
     ]
    }
   ],
   "source": [
    "# Assumption 1: Normality\n",
    "# Use the shapiro function for the scipy.stats library for this test\n",
    "\n",
    "# find the p-value\n",
    "w, p_value = stats.shapiro(df['time_spent_on_the_page']) \n",
    "print('The p-value is', p_value)"
   ]
  },
  {
   "cell_type": "code",
   "execution_count": 26,
   "id": "d24e735c",
   "metadata": {},
   "outputs": [
    {
     "data": {
      "text/html": [
       "<div>\n",
       "<style scoped>\n",
       "    .dataframe tbody tr th:only-of-type {\n",
       "        vertical-align: middle;\n",
       "    }\n",
       "\n",
       "    .dataframe tbody tr th {\n",
       "        vertical-align: top;\n",
       "    }\n",
       "\n",
       "    .dataframe thead th {\n",
       "        text-align: right;\n",
       "    }\n",
       "</style>\n",
       "<table border=\"1\" class=\"dataframe\">\n",
       "  <thead>\n",
       "    <tr style=\"text-align: right;\">\n",
       "      <th>language_preferred</th>\n",
       "      <th>English</th>\n",
       "      <th>French</th>\n",
       "      <th>Spanish</th>\n",
       "      <th>All</th>\n",
       "    </tr>\n",
       "    <tr>\n",
       "      <th>landing_page</th>\n",
       "      <th></th>\n",
       "      <th></th>\n",
       "      <th></th>\n",
       "      <th></th>\n",
       "    </tr>\n",
       "  </thead>\n",
       "  <tbody>\n",
       "    <tr>\n",
       "      <th>new</th>\n",
       "      <td>16</td>\n",
       "      <td>17</td>\n",
       "      <td>17</td>\n",
       "      <td>50</td>\n",
       "    </tr>\n",
       "    <tr>\n",
       "      <th>All</th>\n",
       "      <td>16</td>\n",
       "      <td>17</td>\n",
       "      <td>17</td>\n",
       "      <td>50</td>\n",
       "    </tr>\n",
       "  </tbody>\n",
       "</table>\n",
       "</div>"
      ],
      "text/plain": [
       "language_preferred  English  French  Spanish  All\n",
       "landing_page                                     \n",
       "new                      16      17       17   50\n",
       "All                      16      17       17   50"
      ]
     },
     "execution_count": 26,
     "metadata": {},
     "output_type": "execute_result"
    }
   ],
   "source": [
    "#creates a contingency table \n",
    "newlang = pd.crosstab(newLP.landing_page, newLP.language_preferred, margins=True)\n",
    "newlang.head()"
   ]
  },
  {
   "cell_type": "markdown",
   "id": "4e2fe369",
   "metadata": {},
   "source": [
    "Since p-value of the test is much larger than the 5% significance level, we fail to reject the null hypothesis that the response follows the normal distribution."
   ]
  },
  {
   "cell_type": "markdown",
   "id": "99585edc",
   "metadata": {},
   "source": [
    "**Levene’s test**\n",
    "\n",
    "We will test the null hypothesis\n",
    "\n",
    "    H0: All the population variances are equal\n",
    "\n",
    "against the alternative hypothesis\n",
    "\n",
    "    Ha: At least one variance is different from the rest"
   ]
  },
  {
   "cell_type": "code",
   "execution_count": 27,
   "id": "5791bcb9",
   "metadata": {},
   "outputs": [
    {
     "name": "stdout",
     "output_type": "stream",
     "text": [
      "The p-value is 0.46711357711340173\n"
     ]
    }
   ],
   "source": [
    "#Assumption 2: Homogeneity of Variance\n",
    "# use levene function from scipy.stats library for this test\n",
    "\n",
    "# find the p-value using \"newLP\" defined for time spent on the new landing page in previous question\n",
    "statistic, p_value = stats.levene(newLP[newLP['language_preferred']=='English']['time_spent_on_the_page'],\n",
    "                            newLP[newLP['language_preferred']=='French']['time_spent_on_the_page'],\n",
    "                            newLP[newLP['language_preferred']=='Spanish']['time_spent_on_the_page'])\n",
    "print('The p-value is', p_value)"
   ]
  },
  {
   "cell_type": "markdown",
   "id": "028c7c47",
   "metadata": {},
   "source": [
    "Since the p-value is larger than the 5% significance level, we fail to reject the null hypothesis of homogeneity of variances."
   ]
  },
  {
   "cell_type": "markdown",
   "id": "23763b07",
   "metadata": {},
   "source": [
    "### 4.3 Prepare Data  "
   ]
  },
  {
   "cell_type": "code",
   "execution_count": 29,
   "id": "ba5f07f1",
   "metadata": {},
   "outputs": [
    {
     "data": {
      "text/plain": [
       "1     7.13\n",
       "16    8.73\n",
       "22    3.65\n",
       "23    7.02\n",
       "25    4.39\n",
       "Name: time_spent_on_the_page, dtype: float64"
      ]
     },
     "execution_count": 29,
     "metadata": {},
     "output_type": "execute_result"
    }
   ],
   "source": [
    "# separate the time spent on page with respect to the three languages\n",
    "time_english = newLP[newLP['language_preferred']=='English']['time_spent_on_the_page']\n",
    "time_french = newLP[newLP['language_preferred']=='French']['time_spent_on_the_page']\n",
    "time_spanish = newLP[newLP['language_preferred']=='Spanish']['time_spent_on_the_page']\n"
   ]
  },
  {
   "cell_type": "markdown",
   "id": "e3cd21a1",
   "metadata": {},
   "source": [
    "### 4.4 Calculate the p-value"
   ]
  },
  {
   "cell_type": "code",
   "execution_count": 166,
   "id": "190875b7",
   "metadata": {},
   "outputs": [
    {
     "name": "stdout",
     "output_type": "stream",
     "text": [
      "The p-value is  0.43204138694325955\n"
     ]
    }
   ],
   "source": [
    "#perform one-way anova test using the f_oneway function from scipy.stats library\n",
    "test_stat, p_value = stats.f_oneway(time_english, time_french, time_spanish)\n",
    "print('The p-value is ', p_value)"
   ]
  },
  {
   "cell_type": "markdown",
   "id": "435a2f7b",
   "metadata": {},
   "source": [
    "### 4.5 Conclusion"
   ]
  },
  {
   "cell_type": "code",
   "execution_count": 167,
   "id": "22e5e8a1",
   "metadata": {},
   "outputs": [
    {
     "name": "stdout",
     "output_type": "stream",
     "text": [
      "As the p-value 0.43204138694325955 is greater than the level of significance, we fail to reject the null hypothesis.\n"
     ]
    }
   ],
   "source": [
    "# print the conclusion based on p-value\n",
    "if p_value < 0.05:\n",
    "    print(f'As the p-value {p_value} is less than the level of significance, we reject the null hypothesis.')\n",
    "else:\n",
    "    print(f'As the p-value {p_value} is greater than the level of significance, we fail to reject the null hypothesis.')"
   ]
  },
  {
   "cell_type": "markdown",
   "id": "63088c92",
   "metadata": {},
   "source": [
    "Since the p-value is greater than the 5% significance level, we retain the null hypothesis. Hence, we have enough statistical evidence to say that the mean time spent on the new landing page with respect to the three preferred languages are relativelythe same."
   ]
  },
  {
   "cell_type": "code",
   "execution_count": 171,
   "id": "5a61a693",
   "metadata": {},
   "outputs": [
    {
     "data": {
      "image/png": "[encoded data removed]",
      "text/plain": [
       "<Figure size 432x288 with 1 Axes>"
      ]
     },
     "metadata": {
      "needs_background": "light"
     },
     "output_type": "display_data"
    }
   ],
   "source": [
    "# visual analysis of preferred languages and time they spent on new landing page \n",
    "sns.boxplot(x=\"language_preferred\", y=\"time_spent_on_the_page\", data = newLP, showmeans=True)\n",
    "plt.grid()\n",
    "plt.show()"
   ]
  },
  {
   "cell_type": "code",
   "execution_count": null,
   "id": "0f680a2f",
   "metadata": {},
   "outputs": [],
   "source": []
  }
 ],
 "metadata": {
  "kernelspec": {
   "display_name": "Python 3",
   "language": "python",
   "name": "python3"
  },
  "language_info": {
   "codemirror_mode": {
    "name": "ipython",
    "version": 3
   },
   "file_extension": ".py",
   "mimetype": "text/x-python",
   "name": "python",
   "nbconvert_exporter": "python",
   "pygments_lexer": "ipython3",
   "version": "3.8.8"
  }
 },
 "nbformat": 4,
 "nbformat_minor": 5
}
